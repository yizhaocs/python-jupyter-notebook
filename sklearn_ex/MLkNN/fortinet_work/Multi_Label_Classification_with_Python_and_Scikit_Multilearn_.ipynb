{
 "nbformat": 4,
 "nbformat_minor": 0,
 "metadata": {
  "kernelspec": {
   "display_name": "Python 3",
   "language": "python",
   "name": "python3"
  },
  "language_info": {
   "codemirror_mode": {
    "name": "ipython",
    "version": 3
   },
   "file_extension": ".py",
   "mimetype": "text/x-python",
   "name": "python",
   "nbconvert_exporter": "python",
   "pygments_lexer": "ipython3",
   "version": "3.7.5"
  },
  "colab": {
   "provenance": []
  }
 },
 "cells": [
  {
   "cell_type": "markdown",
   "metadata": {
    "id": "2xEDBUkNCuDt"
   },
   "source": [
    "\n",
    "### 出处：https://colab.research.google.com/drive/1gvtxPb1Acd0QDAxEeumljPS3EZ5T3QWd?usp=sharing\n",
    "\n",
    "### Multilabel Classification with Python\n",
    "\n",
    "##### Multilabel Dataset Examples\n",
    "+ https://sci2s.ugr.es/keel/multilabel.php#sub10\n"
   ]
  },
  {
   "cell_type": "markdown",
   "metadata": {
    "id": "iEWdcioQCuD0"
   },
   "source": [
    "\n",
    "![](multi-class_vs_multi_label_classification_jcharistech.png)\n",
    "\n",
    "#### Solution for Multi-Label Problem\n",
    "+ Methods for solving Multi-label Classification Problems\n",
    "    + Problem Transformation\n",
    "    + Adapted Algorithm\n",
    "    + Ensemble approaches\n",
    "\n",
    "#### Problem Transformation\n",
    "+ It refers to transforming the multi-label problem into single-label problem(s) by using\n",
    "    - Binary Relevance: treats each label as a separate single class classification\n",
    "    - Classifier Chains:In this, the first classifier is trained just on the input data and then each next classifier is trained on the input space and all the previous classifiers in the chain.\n",
    "    - Label Powerset:we transform the problem into a multi-class problem with one multi-class classifier is trained on all unique label combinations found in the training data.\n",
    "\n",
    "        \n",
    "#### Adapted Algorithm\n",
    "+ adapting the algorithm to directly perform multi-label classification, rather than transforming the problem into different subsets of problems.\n",
    "   "
   ]
  },
  {
   "cell_type": "code",
   "metadata": {
    "id": "xuYtN219CuD2"
   },
   "source": [
    "# Load EDA Pkgs\n",
    "import pandas as pd\n",
    "import numpy as np"
   ],
   "execution_count": 18,
   "outputs": []
  },
  {
   "cell_type": "code",
   "metadata": {
    "id": "lYXX6QIeCuD6"
   },
   "source": [
    "# ML Pkgs\n",
    "from sklearn.linear_model import LogisticRegression\n",
    "from sklearn.neighbors import KNeighborsClassifier\n",
    "from sklearn.tree import DecisionTreeClassifier\n",
    "from sklearn.naive_bayes import GaussianNB,MultinomialNB\n",
    "from sklearn.metrics import accuracy_score,hamming_loss,classification_report"
   ],
   "execution_count": 19,
   "outputs": []
  },
  {
   "cell_type": "code",
   "metadata": {
    "id": "er6CJolACuD8"
   },
   "source": [
    "### Split Dataset into Train and Text\n",
    "from sklearn.model_selection import train_test_split\n",
    "# Feature engineering\n",
    "from sklearn.feature_extraction.text import TfidfVectorizer"
   ],
   "execution_count": 20,
   "outputs": []
  },
  {
   "cell_type": "code",
   "metadata": {
    "id": "g1rsc0j7CuD_"
   },
   "source": [
    "# Multi Label Pkgs\n",
    "from skmultilearn.problem_transform import BinaryRelevance\n",
    "from skmultilearn.problem_transform import ClassifierChain\n",
    "from skmultilearn.problem_transform import LabelPowerset\n",
    "from skmultilearn.adapt import MLkNN\n"
   ],
   "execution_count": 21,
   "outputs": []
  },
  {
   "cell_type": "code",
   "metadata": {
    "id": "3Xm-CzuUCuEB"
   },
   "source": [
    "# !pip install scikit-multilearn==0.2.0"
   ],
   "execution_count": 22,
   "outputs": []
  },
  {
   "cell_type": "code",
   "metadata": {
    "id": "KDrdQTz0CuEC"
   },
   "source": [
    "# Load Dataset\n",
    "df = pd.read_csv(\"data/report1666743279291_with_incident_title.csv\")"
   ],
   "execution_count": 23,
   "outputs": []
  },
  {
   "cell_type": "code",
   "metadata": {
    "id": "hsmH7qn_CuED",
    "outputId": "b10b8f39-a990-4455-d072-a1c7483c48e2"
   },
   "source": [
    "df.head()"
   ],
   "execution_count": 24,
   "outputs": [
    {
     "data": {
      "text/plain": "                                               title                 tags  \\\n0  Flask-SQLAlchemy - When are the tables/databas...  ['python', 'mysql']   \n1        Combining two PHP variables for MySQL query     ['php', 'mysql']   \n2  'Counting' the number of records that match a ...     ['php', 'mysql']   \n3  Insert new row in a table and auto id number. ...     ['php', 'mysql']   \n4             Create Multiple MySQL tables using PHP     ['php', 'mysql']   \n\n   mysql  python  php  \n0      1     1.0  0.0  \n1      1     0.0  1.0  \n2      1     0.0  1.0  \n3      1     0.0  1.0  \n4      1     0.0  1.0  ",
      "text/html": "<div>\n<style scoped>\n    .dataframe tbody tr th:only-of-type {\n        vertical-align: middle;\n    }\n\n    .dataframe tbody tr th {\n        vertical-align: top;\n    }\n\n    .dataframe thead th {\n        text-align: right;\n    }\n</style>\n<table border=\"1\" class=\"dataframe\">\n  <thead>\n    <tr style=\"text-align: right;\">\n      <th></th>\n      <th>title</th>\n      <th>tags</th>\n      <th>mysql</th>\n      <th>python</th>\n      <th>php</th>\n    </tr>\n  </thead>\n  <tbody>\n    <tr>\n      <th>0</th>\n      <td>Flask-SQLAlchemy - When are the tables/databas...</td>\n      <td>['python', 'mysql']</td>\n      <td>1</td>\n      <td>1.0</td>\n      <td>0.0</td>\n    </tr>\n    <tr>\n      <th>1</th>\n      <td>Combining two PHP variables for MySQL query</td>\n      <td>['php', 'mysql']</td>\n      <td>1</td>\n      <td>0.0</td>\n      <td>1.0</td>\n    </tr>\n    <tr>\n      <th>2</th>\n      <td>'Counting' the number of records that match a ...</td>\n      <td>['php', 'mysql']</td>\n      <td>1</td>\n      <td>0.0</td>\n      <td>1.0</td>\n    </tr>\n    <tr>\n      <th>3</th>\n      <td>Insert new row in a table and auto id number. ...</td>\n      <td>['php', 'mysql']</td>\n      <td>1</td>\n      <td>0.0</td>\n      <td>1.0</td>\n    </tr>\n    <tr>\n      <th>4</th>\n      <td>Create Multiple MySQL tables using PHP</td>\n      <td>['php', 'mysql']</td>\n      <td>1</td>\n      <td>0.0</td>\n      <td>1.0</td>\n    </tr>\n  </tbody>\n</table>\n</div>"
     },
     "execution_count": 24,
     "metadata": {},
     "output_type": "execute_result"
    }
   ]
  },
  {
   "cell_type": "code",
   "metadata": {
    "id": "fK4Y1HV8CuEE",
    "outputId": "f90fb373-5ef1-4bd9-ed19-33671ad669e0"
   },
   "source": [
    "df.dtypes"
   ],
   "execution_count": 25,
   "outputs": [
    {
     "data": {
      "text/plain": "title      object\ntags       object\nmysql       int64\npython    float64\nphp       float64\ndtype: object"
     },
     "execution_count": 25,
     "metadata": {},
     "output_type": "execute_result"
    }
   ]
  },
  {
   "cell_type": "markdown",
   "metadata": {
    "id": "LlwHSSXsCuEI"
   },
   "source": [
    "### Text Preprocessing\n",
    "+ neattext : remove_stopwords\n",
    "+ pip install neattext"
   ]
  },
  {
   "cell_type": "code",
   "metadata": {
    "id": "Y9839f8wCuEI"
   },
   "source": [
    "import neattext as nt\n",
    "import neattext.functions as nfx"
   ],
   "execution_count": 28,
   "outputs": []
  },
  {
   "cell_type": "code",
   "metadata": {
    "jupyter": {
     "outputs_hidden": true
    },
    "id": "87s7_gUyCuEJ",
    "outputId": "6ceaf28d-6ebd-419b-972c-43beba6bcfc1"
   },
   "source": [
    "# Explore For Noise\n",
    "df['Incident Title'].apply(lambda x:nt.TextFrame(x).noise_scan())"
   ],
   "execution_count": 29,
   "outputs": [
    {
     "data": {
      "text/plain": "0      {'text_noise': 11.267605633802818, 'text_lengt...\n1      {'text_noise': 4.651162790697675, 'text_length...\n2      {'text_noise': 9.90990990990991, 'text_length'...\n3      {'text_noise': 8.47457627118644, 'text_length'...\n4      {'text_noise': 2.631578947368421, 'text_length...\n                             ...                        \n139    {'text_noise': 26.41509433962264, 'text_length...\n140    {'text_noise': 3.8461538461538463, 'text_lengt...\n141    {'text_noise': 6.666666666666667, 'text_length...\n142    {'text_noise': 13.636363636363635, 'text_lengt...\n143    {'text_noise': 7.142857142857142, 'text_length...\nName: title, Length: 144, dtype: object"
     },
     "execution_count": 29,
     "metadata": {},
     "output_type": "execute_result"
    }
   ]
  },
  {
   "cell_type": "code",
   "metadata": {
    "id": "zu2Qdhz8CuEK",
    "outputId": "df1881da-59f2-4dae-9492-6020b1de08e3"
   },
   "source": [
    "# Explore For Noise\n",
    "df['Incident Title'].apply(lambda x:nt.TextExtractor(x).extract_stopwords())"
   ],
   "execution_count": 30,
   "outputs": [
    {
     "data": {
      "text/plain": "0                                [when, are, the, and]\n1                                           [two, for]\n2                    [the, of, that, a, and, the, and]\n3                                    [in, a, and, and]\n4                                              [using]\n                            ...                       \n139                                 [where, in, using]\n140                                               [to]\n141                                  [and, get, using]\n142    [how, to, the, of, a, with, a, back, into, the]\n143                                           [in, if]\nName: title, Length: 144, dtype: object"
     },
     "execution_count": 30,
     "metadata": {},
     "output_type": "execute_result"
    }
   ]
  },
  {
   "cell_type": "code",
   "metadata": {
    "collapsed": true,
    "jupyter": {
     "outputs_hidden": true
    },
    "id": "PzDa0mdNCuEM",
    "outputId": "7a8f039d-2d73-4f73-fe1c-696ce86eeac6"
   },
   "source": [
    "# Explore For Noise\n",
    "df['Incident Title'].apply(nfx.remove_stopwords)"
   ],
   "execution_count": 31,
   "outputs": [
    {
     "data": {
      "text/plain": "0      Flask-SQLAlchemy - tables/databases created de...\n1                    Combining PHP variables MySQL query\n2      'Counting' number records match certain criter...\n3         Insert new row table auto id number. Php MySQL\n4                       Create Multiple MySQL tables PHP\n                             ...                        \n139               Executing \"SELECT ... ... ...\" MySQLdb\n140                              SQLAlchemy reconnect db\n141                      mysql Count Distinct result php\n142    store result radio button database value, data...\n143                 Use SQL count result statement - PHP\nName: title, Length: 144, dtype: object"
     },
     "execution_count": 31,
     "metadata": {},
     "output_type": "execute_result"
    }
   ]
  },
  {
   "cell_type": "code",
   "metadata": {
    "id": "yVSalq9UCuEM"
   },
   "source": [
    "corpus = df['Incident Title'].apply(nfx.remove_stopwords)"
   ],
   "execution_count": 32,
   "outputs": []
  },
  {
   "cell_type": "markdown",
   "metadata": {
    "id": "975O3alRCuEN"
   },
   "source": [
    "### Feature Engineering\n",
    "+ Build features from our text\n",
    "+ TFIDF,countvectorizer,bow"
   ]
  },
  {
   "cell_type": "code",
   "metadata": {
    "id": "geIGLFlhCuEN"
   },
   "source": [
    "tfidf = TfidfVectorizer()"
   ],
   "execution_count": 33,
   "outputs": []
  },
  {
   "cell_type": "code",
   "metadata": {
    "id": "Ue7dEx5FCuEN",
    "outputId": "27c6be47-c3ab-439b-eecf-af0cb7581478"
   },
   "source": [
    "tfidf"
   ],
   "execution_count": 34,
   "outputs": [
    {
     "data": {
      "text/plain": "TfidfVectorizer()",
      "text/html": "<style>#sk-container-id-1 {color: black;background-color: white;}#sk-container-id-1 pre{padding: 0;}#sk-container-id-1 div.sk-toggleable {background-color: white;}#sk-container-id-1 label.sk-toggleable__label {cursor: pointer;display: block;width: 100%;margin-bottom: 0;padding: 0.3em;box-sizing: border-box;text-align: center;}#sk-container-id-1 label.sk-toggleable__label-arrow:before {content: \"▸\";float: left;margin-right: 0.25em;color: #696969;}#sk-container-id-1 label.sk-toggleable__label-arrow:hover:before {color: black;}#sk-container-id-1 div.sk-estimator:hover label.sk-toggleable__label-arrow:before {color: black;}#sk-container-id-1 div.sk-toggleable__content {max-height: 0;max-width: 0;overflow: hidden;text-align: left;background-color: #f0f8ff;}#sk-container-id-1 div.sk-toggleable__content pre {margin: 0.2em;color: black;border-radius: 0.25em;background-color: #f0f8ff;}#sk-container-id-1 input.sk-toggleable__control:checked~div.sk-toggleable__content {max-height: 200px;max-width: 100%;overflow: auto;}#sk-container-id-1 input.sk-toggleable__control:checked~label.sk-toggleable__label-arrow:before {content: \"▾\";}#sk-container-id-1 div.sk-estimator input.sk-toggleable__control:checked~label.sk-toggleable__label {background-color: #d4ebff;}#sk-container-id-1 div.sk-label input.sk-toggleable__control:checked~label.sk-toggleable__label {background-color: #d4ebff;}#sk-container-id-1 input.sk-hidden--visually {border: 0;clip: rect(1px 1px 1px 1px);clip: rect(1px, 1px, 1px, 1px);height: 1px;margin: -1px;overflow: hidden;padding: 0;position: absolute;width: 1px;}#sk-container-id-1 div.sk-estimator {font-family: monospace;background-color: #f0f8ff;border: 1px dotted black;border-radius: 0.25em;box-sizing: border-box;margin-bottom: 0.5em;}#sk-container-id-1 div.sk-estimator:hover {background-color: #d4ebff;}#sk-container-id-1 div.sk-parallel-item::after {content: \"\";width: 100%;border-bottom: 1px solid gray;flex-grow: 1;}#sk-container-id-1 div.sk-label:hover label.sk-toggleable__label {background-color: #d4ebff;}#sk-container-id-1 div.sk-serial::before {content: \"\";position: absolute;border-left: 1px solid gray;box-sizing: border-box;top: 0;bottom: 0;left: 50%;z-index: 0;}#sk-container-id-1 div.sk-serial {display: flex;flex-direction: column;align-items: center;background-color: white;padding-right: 0.2em;padding-left: 0.2em;position: relative;}#sk-container-id-1 div.sk-item {position: relative;z-index: 1;}#sk-container-id-1 div.sk-parallel {display: flex;align-items: stretch;justify-content: center;background-color: white;position: relative;}#sk-container-id-1 div.sk-item::before, #sk-container-id-1 div.sk-parallel-item::before {content: \"\";position: absolute;border-left: 1px solid gray;box-sizing: border-box;top: 0;bottom: 0;left: 50%;z-index: -1;}#sk-container-id-1 div.sk-parallel-item {display: flex;flex-direction: column;z-index: 1;position: relative;background-color: white;}#sk-container-id-1 div.sk-parallel-item:first-child::after {align-self: flex-end;width: 50%;}#sk-container-id-1 div.sk-parallel-item:last-child::after {align-self: flex-start;width: 50%;}#sk-container-id-1 div.sk-parallel-item:only-child::after {width: 0;}#sk-container-id-1 div.sk-dashed-wrapped {border: 1px dashed gray;margin: 0 0.4em 0.5em 0.4em;box-sizing: border-box;padding-bottom: 0.4em;background-color: white;}#sk-container-id-1 div.sk-label label {font-family: monospace;font-weight: bold;display: inline-block;line-height: 1.2em;}#sk-container-id-1 div.sk-label-container {text-align: center;}#sk-container-id-1 div.sk-container {/* jupyter's `normalize.less` sets `[hidden] { display: none; }` but bootstrap.min.css set `[hidden] { display: none !important; }` so we also need the `!important` here to be able to override the default hidden behavior on the sphinx rendered scikit-learn.org. See: https://github.com/scikit-learn/scikit-learn/issues/21755 */display: inline-block !important;position: relative;}#sk-container-id-1 div.sk-text-repr-fallback {display: none;}</style><div id=\"sk-container-id-1\" class=\"sk-top-container\"><div class=\"sk-text-repr-fallback\"><pre>TfidfVectorizer()</pre><b>In a Jupyter environment, please rerun this cell to show the HTML representation or trust the notebook. <br />On GitHub, the HTML representation is unable to render, please try loading this page with nbviewer.org.</b></div><div class=\"sk-container\" hidden><div class=\"sk-item\"><div class=\"sk-estimator sk-toggleable\"><input class=\"sk-toggleable__control sk-hidden--visually\" id=\"sk-estimator-id-1\" type=\"checkbox\" checked><label for=\"sk-estimator-id-1\" class=\"sk-toggleable__label sk-toggleable__label-arrow\">TfidfVectorizer</label><div class=\"sk-toggleable__content\"><pre>TfidfVectorizer()</pre></div></div></div></div></div>"
     },
     "execution_count": 34,
     "metadata": {},
     "output_type": "execute_result"
    }
   ]
  },
  {
   "cell_type": "code",
   "metadata": {
    "id": "7NzGjNgzCuEN"
   },
   "source": [
    "# Build Features\n",
    "Xfeatures = tfidf.fit_transform(corpus).toarray()"
   ],
   "execution_count": 35,
   "outputs": []
  },
  {
   "cell_type": "code",
   "metadata": {
    "collapsed": true,
    "jupyter": {
     "outputs_hidden": true
    },
    "id": "qXcoSSSJCuEO",
    "outputId": "010c4fbf-7044-4b93-a518-8f4ea90ce45f"
   },
   "source": [
    "Xfeatures"
   ],
   "execution_count": 36,
   "outputs": [
    {
     "data": {
      "text/plain": "array([[0., 0., 0., ..., 0., 0., 0.],\n       [0., 0., 0., ..., 0., 0., 0.],\n       [0., 0., 0., ..., 0., 0., 0.],\n       ...,\n       [0., 0., 0., ..., 0., 0., 0.],\n       [0., 0., 0., ..., 0., 0., 0.],\n       [0., 0., 0., ..., 0., 0., 0.]])"
     },
     "execution_count": 36,
     "metadata": {},
     "output_type": "execute_result"
    }
   ]
  },
  {
   "cell_type": "code",
   "metadata": {
    "collapsed": true,
    "jupyter": {
     "outputs_hidden": true
    },
    "id": "SPVVV0C9CuEO",
    "outputId": "93c45a30-592b-4fed-b00c-8b8c087f1ea3"
   },
   "source": [
    "df.head()"
   ],
   "execution_count": 37,
   "outputs": [
    {
     "data": {
      "text/plain": "                                               title                 tags  \\\n0  Flask-SQLAlchemy - When are the tables/databas...  ['python', 'mysql']   \n1        Combining two PHP variables for MySQL query     ['php', 'mysql']   \n2  'Counting' the number of records that match a ...     ['php', 'mysql']   \n3  Insert new row in a table and auto id number. ...     ['php', 'mysql']   \n4             Create Multiple MySQL tables using PHP     ['php', 'mysql']   \n\n   mysql  python  php  \n0    1.0     1.0  0.0  \n1    1.0     0.0  1.0  \n2    1.0     0.0  1.0  \n3    1.0     0.0  1.0  \n4    1.0     0.0  1.0  ",
      "text/html": "<div>\n<style scoped>\n    .dataframe tbody tr th:only-of-type {\n        vertical-align: middle;\n    }\n\n    .dataframe tbody tr th {\n        vertical-align: top;\n    }\n\n    .dataframe thead th {\n        text-align: right;\n    }\n</style>\n<table border=\"1\" class=\"dataframe\">\n  <thead>\n    <tr style=\"text-align: right;\">\n      <th></th>\n      <th>title</th>\n      <th>tags</th>\n      <th>mysql</th>\n      <th>python</th>\n      <th>php</th>\n    </tr>\n  </thead>\n  <tbody>\n    <tr>\n      <th>0</th>\n      <td>Flask-SQLAlchemy - When are the tables/databas...</td>\n      <td>['python', 'mysql']</td>\n      <td>1.0</td>\n      <td>1.0</td>\n      <td>0.0</td>\n    </tr>\n    <tr>\n      <th>1</th>\n      <td>Combining two PHP variables for MySQL query</td>\n      <td>['php', 'mysql']</td>\n      <td>1.0</td>\n      <td>0.0</td>\n      <td>1.0</td>\n    </tr>\n    <tr>\n      <th>2</th>\n      <td>'Counting' the number of records that match a ...</td>\n      <td>['php', 'mysql']</td>\n      <td>1.0</td>\n      <td>0.0</td>\n      <td>1.0</td>\n    </tr>\n    <tr>\n      <th>3</th>\n      <td>Insert new row in a table and auto id number. ...</td>\n      <td>['php', 'mysql']</td>\n      <td>1.0</td>\n      <td>0.0</td>\n      <td>1.0</td>\n    </tr>\n    <tr>\n      <th>4</th>\n      <td>Create Multiple MySQL tables using PHP</td>\n      <td>['php', 'mysql']</td>\n      <td>1.0</td>\n      <td>0.0</td>\n      <td>1.0</td>\n    </tr>\n  </tbody>\n</table>\n</div>"
     },
     "execution_count": 37,
     "metadata": {},
     "output_type": "execute_result"
    }
   ]
  },
  {
   "cell_type": "code",
   "metadata": {
    "id": "RHrqek4lCuEO"
   },
   "source": [
    "y = df[['mysql', 'python', 'php']]"
   ],
   "execution_count": 38,
   "outputs": []
  },
  {
   "cell_type": "code",
   "metadata": {
    "id": "ElnSVnH2CuEO"
   },
   "source": [
    "# Split Data \n",
    "X_train,X_test,y_train,y_test = train_test_split(Xfeatures,y,test_size=0.3,random_state=42)"
   ],
   "execution_count": 39,
   "outputs": []
  },
  {
   "cell_type": "code",
   "metadata": {
    "id": "NblCAJUXCuEP"
   },
   "source": [
    "# Building Our Model\n",
    "# Estimator + Multilabel Estimator"
   ],
   "execution_count": 40,
   "outputs": []
  },
  {
   "cell_type": "markdown",
   "metadata": {
    "id": "fHm6tYhjCuEQ"
   },
   "source": [
    "### Binary Relevance classficiation\n",
    "+ Convert Our Multi-Label Prob to Multi-Class\n",
    "\n",
    "![](binary_relevance_multilabel_ml_jcharistech.png)"
   ]
  },
  {
   "cell_type": "code",
   "metadata": {
    "id": "9ESWilQcCuEQ"
   },
   "source": [
    "# Convert Our Multi-Label Prob to Multi-Class\n",
    "# binary classficiation\n",
    "binary_rel_clf = BinaryRelevance(MultinomialNB())"
   ],
   "execution_count": 41,
   "outputs": []
  },
  {
   "cell_type": "code",
   "metadata": {
    "id": "6uClqtD8CuEQ",
    "outputId": "8b962458-3780-45c1-95cb-16f6150bfb0b"
   },
   "source": [
    "binary_rel_clf.fit(X_train,y_train)"
   ],
   "execution_count": 42,
   "outputs": [
    {
     "data": {
      "text/plain": "BinaryRelevance(classifier=MultinomialNB(), require_dense=[True, True])",
      "text/html": "<style>#sk-container-id-2 {color: black;background-color: white;}#sk-container-id-2 pre{padding: 0;}#sk-container-id-2 div.sk-toggleable {background-color: white;}#sk-container-id-2 label.sk-toggleable__label {cursor: pointer;display: block;width: 100%;margin-bottom: 0;padding: 0.3em;box-sizing: border-box;text-align: center;}#sk-container-id-2 label.sk-toggleable__label-arrow:before {content: \"▸\";float: left;margin-right: 0.25em;color: #696969;}#sk-container-id-2 label.sk-toggleable__label-arrow:hover:before {color: black;}#sk-container-id-2 div.sk-estimator:hover label.sk-toggleable__label-arrow:before {color: black;}#sk-container-id-2 div.sk-toggleable__content {max-height: 0;max-width: 0;overflow: hidden;text-align: left;background-color: #f0f8ff;}#sk-container-id-2 div.sk-toggleable__content pre {margin: 0.2em;color: black;border-radius: 0.25em;background-color: #f0f8ff;}#sk-container-id-2 input.sk-toggleable__control:checked~div.sk-toggleable__content {max-height: 200px;max-width: 100%;overflow: auto;}#sk-container-id-2 input.sk-toggleable__control:checked~label.sk-toggleable__label-arrow:before {content: \"▾\";}#sk-container-id-2 div.sk-estimator input.sk-toggleable__control:checked~label.sk-toggleable__label {background-color: #d4ebff;}#sk-container-id-2 div.sk-label input.sk-toggleable__control:checked~label.sk-toggleable__label {background-color: #d4ebff;}#sk-container-id-2 input.sk-hidden--visually {border: 0;clip: rect(1px 1px 1px 1px);clip: rect(1px, 1px, 1px, 1px);height: 1px;margin: -1px;overflow: hidden;padding: 0;position: absolute;width: 1px;}#sk-container-id-2 div.sk-estimator {font-family: monospace;background-color: #f0f8ff;border: 1px dotted black;border-radius: 0.25em;box-sizing: border-box;margin-bottom: 0.5em;}#sk-container-id-2 div.sk-estimator:hover {background-color: #d4ebff;}#sk-container-id-2 div.sk-parallel-item::after {content: \"\";width: 100%;border-bottom: 1px solid gray;flex-grow: 1;}#sk-container-id-2 div.sk-label:hover label.sk-toggleable__label {background-color: #d4ebff;}#sk-container-id-2 div.sk-serial::before {content: \"\";position: absolute;border-left: 1px solid gray;box-sizing: border-box;top: 0;bottom: 0;left: 50%;z-index: 0;}#sk-container-id-2 div.sk-serial {display: flex;flex-direction: column;align-items: center;background-color: white;padding-right: 0.2em;padding-left: 0.2em;position: relative;}#sk-container-id-2 div.sk-item {position: relative;z-index: 1;}#sk-container-id-2 div.sk-parallel {display: flex;align-items: stretch;justify-content: center;background-color: white;position: relative;}#sk-container-id-2 div.sk-item::before, #sk-container-id-2 div.sk-parallel-item::before {content: \"\";position: absolute;border-left: 1px solid gray;box-sizing: border-box;top: 0;bottom: 0;left: 50%;z-index: -1;}#sk-container-id-2 div.sk-parallel-item {display: flex;flex-direction: column;z-index: 1;position: relative;background-color: white;}#sk-container-id-2 div.sk-parallel-item:first-child::after {align-self: flex-end;width: 50%;}#sk-container-id-2 div.sk-parallel-item:last-child::after {align-self: flex-start;width: 50%;}#sk-container-id-2 div.sk-parallel-item:only-child::after {width: 0;}#sk-container-id-2 div.sk-dashed-wrapped {border: 1px dashed gray;margin: 0 0.4em 0.5em 0.4em;box-sizing: border-box;padding-bottom: 0.4em;background-color: white;}#sk-container-id-2 div.sk-label label {font-family: monospace;font-weight: bold;display: inline-block;line-height: 1.2em;}#sk-container-id-2 div.sk-label-container {text-align: center;}#sk-container-id-2 div.sk-container {/* jupyter's `normalize.less` sets `[hidden] { display: none; }` but bootstrap.min.css set `[hidden] { display: none !important; }` so we also need the `!important` here to be able to override the default hidden behavior on the sphinx rendered scikit-learn.org. See: https://github.com/scikit-learn/scikit-learn/issues/21755 */display: inline-block !important;position: relative;}#sk-container-id-2 div.sk-text-repr-fallback {display: none;}</style><div id=\"sk-container-id-2\" class=\"sk-top-container\"><div class=\"sk-text-repr-fallback\"><pre>BinaryRelevance(classifier=MultinomialNB(), require_dense=[True, True])</pre><b>In a Jupyter environment, please rerun this cell to show the HTML representation or trust the notebook. <br />On GitHub, the HTML representation is unable to render, please try loading this page with nbviewer.org.</b></div><div class=\"sk-container\" hidden><div class=\"sk-item sk-dashed-wrapped\"><div class=\"sk-label-container\"><div class=\"sk-label sk-toggleable\"><input class=\"sk-toggleable__control sk-hidden--visually\" id=\"sk-estimator-id-2\" type=\"checkbox\" ><label for=\"sk-estimator-id-2\" class=\"sk-toggleable__label sk-toggleable__label-arrow\">BinaryRelevance</label><div class=\"sk-toggleable__content\"><pre>BinaryRelevance(classifier=MultinomialNB(), require_dense=[True, True])</pre></div></div></div><div class=\"sk-parallel\"><div class=\"sk-parallel-item\"><div class=\"sk-item\"><div class=\"sk-label-container\"><div class=\"sk-label sk-toggleable\"><input class=\"sk-toggleable__control sk-hidden--visually\" id=\"sk-estimator-id-3\" type=\"checkbox\" ><label for=\"sk-estimator-id-3\" class=\"sk-toggleable__label sk-toggleable__label-arrow\">classifier: MultinomialNB</label><div class=\"sk-toggleable__content\"><pre>MultinomialNB()</pre></div></div></div><div class=\"sk-serial\"><div class=\"sk-item\"><div class=\"sk-estimator sk-toggleable\"><input class=\"sk-toggleable__control sk-hidden--visually\" id=\"sk-estimator-id-4\" type=\"checkbox\" ><label for=\"sk-estimator-id-4\" class=\"sk-toggleable__label sk-toggleable__label-arrow\">MultinomialNB</label><div class=\"sk-toggleable__content\"><pre>MultinomialNB()</pre></div></div></div></div></div></div></div></div></div></div>"
     },
     "execution_count": 42,
     "metadata": {},
     "output_type": "execute_result"
    }
   ]
  },
  {
   "cell_type": "code",
   "metadata": {
    "id": "APTkS6HjCuEQ"
   },
   "source": [
    "# Predictions\n",
    "br_prediction = binary_rel_clf.predict(X_test)"
   ],
   "execution_count": 43,
   "outputs": []
  },
  {
   "cell_type": "code",
   "metadata": {
    "collapsed": true,
    "jupyter": {
     "outputs_hidden": true
    },
    "id": "vQs43G8gCuER",
    "outputId": "f23212be-bae5-458b-9427-b1e0801c84f4"
   },
   "source": [
    "# Convert to Array  To See Result\n",
    "br_prediction.toarray()"
   ],
   "execution_count": 44,
   "outputs": [
    {
     "data": {
      "text/plain": "array([[1., 0., 1.],\n       [1., 0., 1.],\n       [1., 1., 0.],\n       [1., 0., 1.],\n       [1., 0., 1.],\n       [1., 0., 1.],\n       [1., 0., 1.],\n       [1., 1., 0.],\n       [1., 1., 0.],\n       [1., 0., 1.],\n       [1., 0., 1.],\n       [1., 0., 1.],\n       [1., 0., 1.],\n       [1., 1., 0.],\n       [1., 0., 1.],\n       [1., 0., 1.],\n       [1., 0., 1.],\n       [1., 0., 1.],\n       [1., 0., 1.],\n       [1., 1., 0.],\n       [1., 1., 0.],\n       [1., 1., 0.],\n       [1., 0., 1.],\n       [1., 0., 1.],\n       [1., 0., 1.],\n       [1., 0., 1.],\n       [1., 0., 1.],\n       [1., 0., 1.],\n       [1., 0., 1.],\n       [1., 1., 0.],\n       [1., 1., 0.],\n       [1., 1., 0.],\n       [1., 0., 1.],\n       [1., 1., 0.],\n       [1., 1., 0.],\n       [1., 1., 0.],\n       [1., 0., 1.],\n       [1., 0., 1.],\n       [1., 1., 0.],\n       [1., 0., 1.],\n       [1., 1., 0.],\n       [1., 0., 1.],\n       [1., 1., 0.],\n       [1., 1., 0.]])"
     },
     "execution_count": 44,
     "metadata": {},
     "output_type": "execute_result"
    }
   ]
  },
  {
   "cell_type": "code",
   "metadata": {
    "id": "TpYYI_tTCuER",
    "outputId": "3c189ab9-6192-4c25-bf5c-bc2a72392bbf"
   },
   "source": [
    "# Accuracy\n",
    "accuracy_score(y_test,br_prediction)"
   ],
   "execution_count": 45,
   "outputs": [
    {
     "data": {
      "text/plain": "0.9090909090909091"
     },
     "execution_count": 45,
     "metadata": {},
     "output_type": "execute_result"
    }
   ]
  },
  {
   "cell_type": "code",
   "metadata": {
    "id": "7QkrnYIbCuER",
    "outputId": "68dc43ff-50ce-4be0-e995-e48c332b7b2a"
   },
   "source": [
    "# Hamming Loss :Incorrect Predictions\n",
    "# The Lower the result the better\n",
    "hamming_loss(y_test,br_prediction)"
   ],
   "execution_count": 46,
   "outputs": [
    {
     "data": {
      "text/plain": "0.06060606060606061"
     },
     "execution_count": 46,
     "metadata": {},
     "output_type": "execute_result"
    }
   ]
  },
  {
   "cell_type": "markdown",
   "metadata": {
    "id": "nXJibv9eCuER"
   },
   "source": [
    "#### Classifier Chains\n",
    "+ Preserve Label Correlation\n",
    "\n",
    "![](classifier_chains_multilabel_jcharistech.png)"
   ]
  },
  {
   "cell_type": "code",
   "metadata": {
    "jupyter": {
     "source_hidden": true
    },
    "id": "foVQ79g9CuES"
   },
   "source": [
    "def build_model(model,mlb_estimator,xtrain,ytrain,xtest,ytest):\n",
    "    # Create an Instance\n",
    "    clf = mlb_estimator(model)\n",
    "    clf.fit(xtrain,ytrain)\n",
    "    # Predict\n",
    "    clf_predictions = clf.predict(xtest)\n",
    "    # Check For Accuracy\n",
    "    acc = accuracy_score(ytest,clf_predictions)\n",
    "    ham = hamming_loss(ytest,clf_predictions)\n",
    "    result = {\"accuracy:\":acc,\"hamming_score\":ham}\n",
    "    return result"
   ],
   "execution_count": 47,
   "outputs": []
  },
  {
   "cell_type": "code",
   "metadata": {
    "id": "OGbfj8pECuES"
   },
   "source": [
    "clf_chain_model = build_model(MultinomialNB(),ClassifierChain,X_train,y_train,X_test,y_test)"
   ],
   "execution_count": 48,
   "outputs": []
  },
  {
   "cell_type": "code",
   "metadata": {
    "id": "NvYMsmkjCuES",
    "outputId": "4b864393-9230-4d33-b295-91b9c64ee1d1"
   },
   "source": [
    "clf_chain_model"
   ],
   "execution_count": 49,
   "outputs": [
    {
     "data": {
      "text/plain": "{'accuracy:': 0.8409090909090909, 'hamming_score': 0.10606060606060606}"
     },
     "execution_count": 49,
     "metadata": {},
     "output_type": "execute_result"
    }
   ]
  },
  {
   "cell_type": "markdown",
   "metadata": {
    "id": "8k3VsuwjCuES"
   },
   "source": [
    "#### LabelPowerset\n",
    "![](labelPowerset_multilabel_ml_jcharistech.png)"
   ]
  },
  {
   "cell_type": "code",
   "metadata": {
    "id": "gNOEODPmCuES"
   },
   "source": [
    "clf_labelP_model = build_model(MultinomialNB(),LabelPowerset,X_train,y_train,X_test,y_test)"
   ],
   "execution_count": 50,
   "outputs": []
  },
  {
   "cell_type": "code",
   "metadata": {
    "id": "qr7n7lRMCuES",
    "outputId": "c6ab9d75-4780-446c-8d2d-92db6f3a1b1b"
   },
   "source": [
    "clf_labelP_model"
   ],
   "execution_count": 51,
   "outputs": [
    {
     "data": {
      "text/plain": "{'accuracy:': 0.9090909090909091, 'hamming_score': 0.06060606060606061}"
     },
     "execution_count": 51,
     "metadata": {},
     "output_type": "execute_result"
    }
   ]
  },
  {
   "cell_type": "code",
   "metadata": {
    "id": "eEphe6EcCuET"
   },
   "source": [
    "### Apply On A Simple Ttitle/Question"
   ],
   "execution_count": 52,
   "outputs": []
  },
  {
   "cell_type": "code",
   "metadata": {
    "id": "e41qz5GGCuET"
   },
   "source": [
    "ex1 = df['title'].iloc[0]"
   ],
   "execution_count": 53,
   "outputs": []
  },
  {
   "cell_type": "code",
   "metadata": {
    "id": "N0eUBIVlCuET"
   },
   "source": [
    "# Vectorized \n",
    "vec_example = tfidf.transform([ex1])"
   ],
   "execution_count": 54,
   "outputs": []
  },
  {
   "cell_type": "code",
   "metadata": {
    "id": "yF5rJTczCuET",
    "outputId": "b78f06b5-c744-4ff7-b9c7-a7954d5c97ed"
   },
   "source": [
    "# Make our prediction\n",
    "binary_rel_clf.predict(vec_example).toarray()"
   ],
   "execution_count": 55,
   "outputs": [
    {
     "data": {
      "text/plain": "array([[1., 1., 0.]])"
     },
     "execution_count": 55,
     "metadata": {},
     "output_type": "execute_result"
    }
   ]
  }
 ]
}
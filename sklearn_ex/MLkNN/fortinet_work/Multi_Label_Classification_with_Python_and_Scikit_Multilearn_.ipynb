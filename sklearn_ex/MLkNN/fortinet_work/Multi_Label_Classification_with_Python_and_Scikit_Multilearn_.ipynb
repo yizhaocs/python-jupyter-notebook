{
 "nbformat": 4,
 "nbformat_minor": 0,
 "metadata": {
  "kernelspec": {
   "display_name": "Python 3",
   "language": "python",
   "name": "python3"
  },
  "language_info": {
   "codemirror_mode": {
    "name": "ipython",
    "version": 3
   },
   "file_extension": ".py",
   "mimetype": "text/x-python",
   "name": "python",
   "nbconvert_exporter": "python",
   "pygments_lexer": "ipython3",
   "version": "3.7.5"
  },
  "colab": {
   "provenance": []
  }
 },
 "cells": [
  {
   "cell_type": "markdown",
   "metadata": {
    "id": "2xEDBUkNCuDt"
   },
   "source": [
    "\n",
    "### 出处：https://colab.research.google.com/drive/1gvtxPb1Acd0QDAxEeumljPS3EZ5T3QWd?usp=sharing\n",
    "\n",
    "### Multilabel Classification with Python\n",
    "\n",
    "##### Multilabel Dataset Examples\n",
    "+ https://sci2s.ugr.es/keel/multilabel.php#sub10\n"
   ]
  },
  {
   "cell_type": "markdown",
   "metadata": {
    "id": "iEWdcioQCuD0"
   },
   "source": [
    "\n",
    "![](multi-class_vs_multi_label_classification_jcharistech.png)\n",
    "\n",
    "#### Solution for Multi-Label Problem\n",
    "+ Methods for solving Multi-label Classification Problems\n",
    "    + Problem Transformation\n",
    "    + Adapted Algorithm\n",
    "    + Ensemble approaches\n",
    "\n",
    "#### Problem Transformation\n",
    "+ It refers to transforming the multi-label problem into single-label problem(s) by using\n",
    "    - Binary Relevance: treats each label as a separate single class classification\n",
    "    - Classifier Chains:In this, the first classifier is trained just on the input data and then each next classifier is trained on the input space and all the previous classifiers in the chain.\n",
    "    - Label Powerset:we transform the problem into a multi-class problem with one multi-class classifier is trained on all unique label combinations found in the training data.\n",
    "\n",
    "        \n",
    "#### Adapted Algorithm\n",
    "+ adapting the algorithm to directly perform multi-label classification, rather than transforming the problem into different subsets of problems.\n",
    "   "
   ]
  },
  {
   "cell_type": "code",
   "metadata": {
    "id": "xuYtN219CuD2"
   },
   "source": [
    "# Load EDA Pkgs\n",
    "import pandas as pd\n",
    "import numpy as np"
   ],
   "execution_count": 1,
   "outputs": []
  },
  {
   "cell_type": "code",
   "metadata": {
    "id": "lYXX6QIeCuD6"
   },
   "source": [
    "# ML Pkgs\n",
    "from sklearn.linear_model import LogisticRegression\n",
    "from sklearn.neighbors import KNeighborsClassifier\n",
    "from sklearn.tree import DecisionTreeClassifier\n",
    "from sklearn.naive_bayes import GaussianNB,MultinomialNB\n",
    "from sklearn.metrics import accuracy_score,hamming_loss,classification_report"
   ],
   "execution_count": 2,
   "outputs": []
  },
  {
   "cell_type": "code",
   "metadata": {
    "id": "er6CJolACuD8"
   },
   "source": [
    "### Split Dataset into Train and Text\n",
    "from sklearn.model_selection import train_test_split\n",
    "# Feature engineering\n",
    "from sklearn.feature_extraction.text import TfidfVectorizer"
   ],
   "execution_count": 3,
   "outputs": []
  },
  {
   "cell_type": "code",
   "metadata": {
    "id": "g1rsc0j7CuD_"
   },
   "source": [
    "# Multi Label Pkgs\n",
    "from skmultilearn.problem_transform import BinaryRelevance\n",
    "from skmultilearn.problem_transform import ClassifierChain\n",
    "from skmultilearn.problem_transform import LabelPowerset\n",
    "from skmultilearn.adapt import MLkNN\n"
   ],
   "execution_count": 4,
   "outputs": []
  },
  {
   "cell_type": "code",
   "metadata": {
    "id": "3Xm-CzuUCuEB"
   },
   "source": [
    "# !pip install scikit-multilearn==0.2.0"
   ],
   "execution_count": 5,
   "outputs": []
  },
  {
   "cell_type": "code",
   "metadata": {
    "id": "KDrdQTz0CuEC"
   },
   "source": [
    "# Load Dataset\n",
    "df = pd.read_csv(\"data/report1666743279291_with_incident_title_with_username.csv\")"
   ],
   "execution_count": 6,
   "outputs": []
  },
  {
   "cell_type": "code",
   "metadata": {
    "id": "hsmH7qn_CuED",
    "outputId": "b10b8f39-a990-4455-d072-a1c7483c48e2"
   },
   "source": [
    "df.head()"
   ],
   "execution_count": 7,
   "outputs": [
    {
     "data": {
      "text/plain": "    Event Receive Time  DayOfWeek(Event Receive Time)  \\\n0  2022-10-25 17:14:00                              2   \n1  2022-10-25 17:14:00                              2   \n2  2022-10-25 17:14:00                              2   \n3  2022-10-25 17:14:00                              2   \n4  2022-10-25 17:14:00                              2   \n\n   HourOfDay(Event Receive Time)  \\\n0                             17   \n1                             17   \n2                             17   \n3                             17   \n4                             17   \n\n                                          Event Type  \\\n0  PH_RULE_Linux_Discovery_of_Network_Environment...   \n1                   PH_RULE_ANOMALY_TRAFFIC_NET_INTF   \n2                               PH_RULE_ESX_CPU_WARN   \n3                               PH_RULE_ESX_CPU_WARN   \n4                               PH_RULE_ESX_CPU_WARN   \n\n                                          Event Name  \\\n0  Linux: Discovery of Network Environment via Bu...   \n1       Sudden Increase in Network Interface Traffic   \n2                                    ESX CPU Warning   \n3                                    ESX CPU Warning   \n4                                    ESX CPU Warning   \n\n                                      Incident Title  \\\n0  Linux Discovery of Network Environment via Bui...   \n1  Sudden Increase in Network Interface Traffic o...   \n2    ESX CPU Warning on ussvnplesx58.fortinet-us.com   \n3    ESX CPU Warning on ussvnplesx57.fortinet-us.com   \n4    ESX CPU Warning on ussvnplesx51.fortinet-us.com   \n\n      Incident Reporting Device Incident Source  \\\n0          sp14816.fortinet.com             NaN   \n1  ussvnplesx56.fortinet-us.com             NaN   \n2  ussvnplesx58.fortinet-us.com             NaN   \n3  ussvnplesx57.fortinet-us.com             NaN   \n4  ussvnplesx51.fortinet-us.com             NaN   \n\n                                     Incident Target       Host IP  ...  \\\n0                                  hostName:sp14816,           NaN  ...   \n1  hostName:ussvnplesx56.fortinet-us.com, hostIpA...  172.30.54.56  ...   \n2  hostIpAddr:172.30.54.58, hostName:ussvnplesx58...  172.30.54.58  ...   \n3  hostIpAddr:172.30.54.57, hostName:ussvnplesx57...  172.30.54.57  ...   \n4  hostIpAddr:172.30.54.51, hostName:ussvnplesx51...  172.30.54.51  ...   \n\n  Incident Status  Incident Resolution  Incident Tag Name  Incident Comments  \\\n0               0                    1                NaN                NaN   \n1               0                    1                NaN                NaN   \n2               0                    1                NaN                NaN   \n3               0                    1                NaN                NaN   \n4               0                    1                NaN                NaN   \n\n   Incident Category                                   Attack Technique  \\\n0                  4  [{\"name\": \"System Network Configuration Discov...   \n1                  4  [{\"name\": \"Network Denial of Service: Direct N...   \n2                  2  [{\"name\": \"Endpoint Denial of Service: OS Exha...   \n3                  2  [{\"name\": \"Endpoint Denial of Service: OS Exha...   \n4                  2  [{\"name\": \"Endpoint Denial of Service: OS Exha...   \n\n  Attack Tactic user_A  user_B  user_C  \n0     Discovery    1.0     1.0     0.0  \n1        Impact    1.0     0.0     1.0  \n2        Impact    1.0     0.0     1.0  \n3        Impact    1.0     0.0     1.0  \n4        Impact    1.0     0.0     1.0  \n\n[5 rows x 21 columns]",
      "text/html": "<div>\n<style scoped>\n    .dataframe tbody tr th:only-of-type {\n        vertical-align: middle;\n    }\n\n    .dataframe tbody tr th {\n        vertical-align: top;\n    }\n\n    .dataframe thead th {\n        text-align: right;\n    }\n</style>\n<table border=\"1\" class=\"dataframe\">\n  <thead>\n    <tr style=\"text-align: right;\">\n      <th></th>\n      <th>Event Receive Time</th>\n      <th>DayOfWeek(Event Receive Time)</th>\n      <th>HourOfDay(Event Receive Time)</th>\n      <th>Event Type</th>\n      <th>Event Name</th>\n      <th>Incident Title</th>\n      <th>Incident Reporting Device</th>\n      <th>Incident Source</th>\n      <th>Incident Target</th>\n      <th>Host IP</th>\n      <th>...</th>\n      <th>Incident Status</th>\n      <th>Incident Resolution</th>\n      <th>Incident Tag Name</th>\n      <th>Incident Comments</th>\n      <th>Incident Category</th>\n      <th>Attack Technique</th>\n      <th>Attack Tactic</th>\n      <th>user_A</th>\n      <th>user_B</th>\n      <th>user_C</th>\n    </tr>\n  </thead>\n  <tbody>\n    <tr>\n      <th>0</th>\n      <td>2022-10-25 17:14:00</td>\n      <td>2</td>\n      <td>17</td>\n      <td>PH_RULE_Linux_Discovery_of_Network_Environment...</td>\n      <td>Linux: Discovery of Network Environment via Bu...</td>\n      <td>Linux Discovery of Network Environment via Bui...</td>\n      <td>sp14816.fortinet.com</td>\n      <td>NaN</td>\n      <td>hostName:sp14816,</td>\n      <td>NaN</td>\n      <td>...</td>\n      <td>0</td>\n      <td>1</td>\n      <td>NaN</td>\n      <td>NaN</td>\n      <td>4</td>\n      <td>[{\"name\": \"System Network Configuration Discov...</td>\n      <td>Discovery</td>\n      <td>1.0</td>\n      <td>1.0</td>\n      <td>0.0</td>\n    </tr>\n    <tr>\n      <th>1</th>\n      <td>2022-10-25 17:14:00</td>\n      <td>2</td>\n      <td>17</td>\n      <td>PH_RULE_ANOMALY_TRAFFIC_NET_INTF</td>\n      <td>Sudden Increase in Network Interface Traffic</td>\n      <td>Sudden Increase in Network Interface Traffic o...</td>\n      <td>ussvnplesx56.fortinet-us.com</td>\n      <td>NaN</td>\n      <td>hostName:ussvnplesx56.fortinet-us.com, hostIpA...</td>\n      <td>172.30.54.56</td>\n      <td>...</td>\n      <td>0</td>\n      <td>1</td>\n      <td>NaN</td>\n      <td>NaN</td>\n      <td>4</td>\n      <td>[{\"name\": \"Network Denial of Service: Direct N...</td>\n      <td>Impact</td>\n      <td>1.0</td>\n      <td>0.0</td>\n      <td>1.0</td>\n    </tr>\n    <tr>\n      <th>2</th>\n      <td>2022-10-25 17:14:00</td>\n      <td>2</td>\n      <td>17</td>\n      <td>PH_RULE_ESX_CPU_WARN</td>\n      <td>ESX CPU Warning</td>\n      <td>ESX CPU Warning on ussvnplesx58.fortinet-us.com</td>\n      <td>ussvnplesx58.fortinet-us.com</td>\n      <td>NaN</td>\n      <td>hostIpAddr:172.30.54.58, hostName:ussvnplesx58...</td>\n      <td>172.30.54.58</td>\n      <td>...</td>\n      <td>0</td>\n      <td>1</td>\n      <td>NaN</td>\n      <td>NaN</td>\n      <td>2</td>\n      <td>[{\"name\": \"Endpoint Denial of Service: OS Exha...</td>\n      <td>Impact</td>\n      <td>1.0</td>\n      <td>0.0</td>\n      <td>1.0</td>\n    </tr>\n    <tr>\n      <th>3</th>\n      <td>2022-10-25 17:14:00</td>\n      <td>2</td>\n      <td>17</td>\n      <td>PH_RULE_ESX_CPU_WARN</td>\n      <td>ESX CPU Warning</td>\n      <td>ESX CPU Warning on ussvnplesx57.fortinet-us.com</td>\n      <td>ussvnplesx57.fortinet-us.com</td>\n      <td>NaN</td>\n      <td>hostIpAddr:172.30.54.57, hostName:ussvnplesx57...</td>\n      <td>172.30.54.57</td>\n      <td>...</td>\n      <td>0</td>\n      <td>1</td>\n      <td>NaN</td>\n      <td>NaN</td>\n      <td>2</td>\n      <td>[{\"name\": \"Endpoint Denial of Service: OS Exha...</td>\n      <td>Impact</td>\n      <td>1.0</td>\n      <td>0.0</td>\n      <td>1.0</td>\n    </tr>\n    <tr>\n      <th>4</th>\n      <td>2022-10-25 17:14:00</td>\n      <td>2</td>\n      <td>17</td>\n      <td>PH_RULE_ESX_CPU_WARN</td>\n      <td>ESX CPU Warning</td>\n      <td>ESX CPU Warning on ussvnplesx51.fortinet-us.com</td>\n      <td>ussvnplesx51.fortinet-us.com</td>\n      <td>NaN</td>\n      <td>hostIpAddr:172.30.54.51, hostName:ussvnplesx51...</td>\n      <td>172.30.54.51</td>\n      <td>...</td>\n      <td>0</td>\n      <td>1</td>\n      <td>NaN</td>\n      <td>NaN</td>\n      <td>2</td>\n      <td>[{\"name\": \"Endpoint Denial of Service: OS Exha...</td>\n      <td>Impact</td>\n      <td>1.0</td>\n      <td>0.0</td>\n      <td>1.0</td>\n    </tr>\n  </tbody>\n</table>\n<p>5 rows × 21 columns</p>\n</div>"
     },
     "execution_count": 7,
     "metadata": {},
     "output_type": "execute_result"
    }
   ]
  },
  {
   "cell_type": "code",
   "metadata": {
    "id": "fK4Y1HV8CuEE",
    "outputId": "f90fb373-5ef1-4bd9-ed19-33671ad669e0"
   },
   "source": [
    "df.dtypes"
   ],
   "execution_count": 8,
   "outputs": [
    {
     "data": {
      "text/plain": "Event Receive Time                object\nDayOfWeek(Event Receive Time)      int64\nHourOfDay(Event Receive Time)      int64\nEvent Type                        object\nEvent Name                        object\nIncident Title                    object\nIncident Reporting Device         object\nIncident Source                   object\nIncident Target                   object\nHost IP                           object\nHost Name                         object\nIncident Status                    int64\nIncident Resolution                int64\nIncident Tag Name                float64\nIncident Comments                float64\nIncident Category                  int64\nAttack Technique                  object\nAttack Tactic                     object\nuser_A                           float64\nuser_B                           float64\nuser_C                           float64\ndtype: object"
     },
     "execution_count": 8,
     "metadata": {},
     "output_type": "execute_result"
    }
   ]
  },
  {
   "cell_type": "markdown",
   "metadata": {
    "id": "LlwHSSXsCuEI"
   },
   "source": [
    "### Text Preprocessing\n",
    "+ neattext : remove_stopwords\n",
    "+ pip install neattext"
   ]
  },
  {
   "cell_type": "code",
   "metadata": {
    "id": "Y9839f8wCuEI"
   },
   "source": [
    "import neattext as nt\n",
    "import neattext.functions as nfx"
   ],
   "execution_count": 9,
   "outputs": []
  },
  {
   "cell_type": "code",
   "metadata": {
    "jupyter": {
     "outputs_hidden": true
    },
    "id": "87s7_gUyCuEJ",
    "outputId": "6ceaf28d-6ebd-419b-972c-43beba6bcfc1"
   },
   "source": [
    "# Explore For Noise\n",
    "df['Incident Title'].apply(lambda x:nt.TextFrame(x).noise_scan())"
   ],
   "execution_count": 10,
   "outputs": [
    {
     "data": {
      "text/plain": "0        {'text_noise': 5.88235294117647, 'text_length'...\n1        {'text_noise': 6.521739130434782, 'text_length...\n2        {'text_noise': 8.51063829787234, 'text_length'...\n3        {'text_noise': 8.51063829787234, 'text_length'...\n4        {'text_noise': 8.51063829787234, 'text_length'...\n                               ...                        \n14704    {'text_noise': 13.513513513513514, 'text_lengt...\n14705    {'text_noise': 10.588235294117647, 'text_lengt...\n14706    {'text_noise': 13.91304347826087, 'text_length...\n14707    {'text_noise': 9.411764705882353, 'text_length...\n14708    {'text_noise': 10.679611650485436, 'text_lengt...\nName: Incident Title, Length: 14709, dtype: object"
     },
     "execution_count": 10,
     "metadata": {},
     "output_type": "execute_result"
    }
   ]
  },
  {
   "cell_type": "code",
   "metadata": {
    "id": "zu2Qdhz8CuEK",
    "outputId": "df1881da-59f2-4dae-9492-6020b1de08e3"
   },
   "source": [
    "# Explore For Noise\n",
    "df['Incident Title'].apply(lambda x:nt.TextExtractor(x).extract_stopwords())"
   ],
   "execution_count": 11,
   "outputs": [
    {
     "data": {
      "text/plain": "0                  [of, via, on]\n1                  [in, on, and]\n2                           [on]\n3                           [on]\n4                           [on]\n                  ...           \n14704    [two, and, because, of]\n14705    [two, and, because, of]\n14706    [two, and, because, of]\n14707    [two, and, because, of]\n14708    [two, and, because, of]\nName: Incident Title, Length: 14709, dtype: object"
     },
     "execution_count": 11,
     "metadata": {},
     "output_type": "execute_result"
    }
   ]
  },
  {
   "cell_type": "code",
   "metadata": {
    "collapsed": true,
    "jupyter": {
     "outputs_hidden": true
    },
    "id": "PzDa0mdNCuEM",
    "outputId": "7a8f039d-2d73-4f73-fe1c-696ce86eeac6"
   },
   "source": [
    "# Explore For Noise\n",
    "df['Incident Title'].apply(nfx.remove_stopwords)"
   ],
   "execution_count": 12,
   "outputs": [
    {
     "data": {
      "text/plain": "0        Linux Discovery Network Environment Built-in T...\n1        Sudden Increase Network Interface Traffic vmni...\n2             ESX CPU Warning ussvnplesx58.fortinet-us.com\n3             ESX CPU Warning ussvnplesx57.fortinet-us.com\n4             ESX CPU Warning ussvnplesx51.fortinet-us.com\n                               ...                        \n14704    devices merged FSM.JianD.700.58.35.com FSM_Jia...\n14705    devices merged co200-rp Centos8.58134 Overlapp...\n14706    devices merged FSM-REPO-JYU-CENTOS8-OFFLINEREP...\n14707    devices merged ch58221 ylsp58221.fqdn Overlapp...\n14708    devices merged sp14811.fortinet.com ml14811.fo...\nName: Incident Title, Length: 14709, dtype: object"
     },
     "execution_count": 12,
     "metadata": {},
     "output_type": "execute_result"
    }
   ]
  },
  {
   "cell_type": "code",
   "metadata": {
    "id": "yVSalq9UCuEM"
   },
   "source": [
    "corpus = df['Incident Title'].apply(nfx.remove_stopwords)"
   ],
   "execution_count": 13,
   "outputs": []
  },
  {
   "cell_type": "markdown",
   "metadata": {
    "id": "975O3alRCuEN"
   },
   "source": [
    "### Feature Engineering\n",
    "+ Build features from our text\n",
    "+ TFIDF,countvectorizer,bow"
   ]
  },
  {
   "cell_type": "code",
   "metadata": {
    "id": "geIGLFlhCuEN"
   },
   "source": [
    "tfidf = TfidfVectorizer()"
   ],
   "execution_count": 14,
   "outputs": []
  },
  {
   "cell_type": "code",
   "metadata": {
    "id": "Ue7dEx5FCuEN",
    "outputId": "27c6be47-c3ab-439b-eecf-af0cb7581478"
   },
   "source": [
    "tfidf"
   ],
   "execution_count": 15,
   "outputs": [
    {
     "data": {
      "text/plain": "TfidfVectorizer()",
      "text/html": "<style>#sk-container-id-1 {color: black;background-color: white;}#sk-container-id-1 pre{padding: 0;}#sk-container-id-1 div.sk-toggleable {background-color: white;}#sk-container-id-1 label.sk-toggleable__label {cursor: pointer;display: block;width: 100%;margin-bottom: 0;padding: 0.3em;box-sizing: border-box;text-align: center;}#sk-container-id-1 label.sk-toggleable__label-arrow:before {content: \"▸\";float: left;margin-right: 0.25em;color: #696969;}#sk-container-id-1 label.sk-toggleable__label-arrow:hover:before {color: black;}#sk-container-id-1 div.sk-estimator:hover label.sk-toggleable__label-arrow:before {color: black;}#sk-container-id-1 div.sk-toggleable__content {max-height: 0;max-width: 0;overflow: hidden;text-align: left;background-color: #f0f8ff;}#sk-container-id-1 div.sk-toggleable__content pre {margin: 0.2em;color: black;border-radius: 0.25em;background-color: #f0f8ff;}#sk-container-id-1 input.sk-toggleable__control:checked~div.sk-toggleable__content {max-height: 200px;max-width: 100%;overflow: auto;}#sk-container-id-1 input.sk-toggleable__control:checked~label.sk-toggleable__label-arrow:before {content: \"▾\";}#sk-container-id-1 div.sk-estimator input.sk-toggleable__control:checked~label.sk-toggleable__label {background-color: #d4ebff;}#sk-container-id-1 div.sk-label input.sk-toggleable__control:checked~label.sk-toggleable__label {background-color: #d4ebff;}#sk-container-id-1 input.sk-hidden--visually {border: 0;clip: rect(1px 1px 1px 1px);clip: rect(1px, 1px, 1px, 1px);height: 1px;margin: -1px;overflow: hidden;padding: 0;position: absolute;width: 1px;}#sk-container-id-1 div.sk-estimator {font-family: monospace;background-color: #f0f8ff;border: 1px dotted black;border-radius: 0.25em;box-sizing: border-box;margin-bottom: 0.5em;}#sk-container-id-1 div.sk-estimator:hover {background-color: #d4ebff;}#sk-container-id-1 div.sk-parallel-item::after {content: \"\";width: 100%;border-bottom: 1px solid gray;flex-grow: 1;}#sk-container-id-1 div.sk-label:hover label.sk-toggleable__label {background-color: #d4ebff;}#sk-container-id-1 div.sk-serial::before {content: \"\";position: absolute;border-left: 1px solid gray;box-sizing: border-box;top: 0;bottom: 0;left: 50%;z-index: 0;}#sk-container-id-1 div.sk-serial {display: flex;flex-direction: column;align-items: center;background-color: white;padding-right: 0.2em;padding-left: 0.2em;position: relative;}#sk-container-id-1 div.sk-item {position: relative;z-index: 1;}#sk-container-id-1 div.sk-parallel {display: flex;align-items: stretch;justify-content: center;background-color: white;position: relative;}#sk-container-id-1 div.sk-item::before, #sk-container-id-1 div.sk-parallel-item::before {content: \"\";position: absolute;border-left: 1px solid gray;box-sizing: border-box;top: 0;bottom: 0;left: 50%;z-index: -1;}#sk-container-id-1 div.sk-parallel-item {display: flex;flex-direction: column;z-index: 1;position: relative;background-color: white;}#sk-container-id-1 div.sk-parallel-item:first-child::after {align-self: flex-end;width: 50%;}#sk-container-id-1 div.sk-parallel-item:last-child::after {align-self: flex-start;width: 50%;}#sk-container-id-1 div.sk-parallel-item:only-child::after {width: 0;}#sk-container-id-1 div.sk-dashed-wrapped {border: 1px dashed gray;margin: 0 0.4em 0.5em 0.4em;box-sizing: border-box;padding-bottom: 0.4em;background-color: white;}#sk-container-id-1 div.sk-label label {font-family: monospace;font-weight: bold;display: inline-block;line-height: 1.2em;}#sk-container-id-1 div.sk-label-container {text-align: center;}#sk-container-id-1 div.sk-container {/* jupyter's `normalize.less` sets `[hidden] { display: none; }` but bootstrap.min.css set `[hidden] { display: none !important; }` so we also need the `!important` here to be able to override the default hidden behavior on the sphinx rendered scikit-learn.org. See: https://github.com/scikit-learn/scikit-learn/issues/21755 */display: inline-block !important;position: relative;}#sk-container-id-1 div.sk-text-repr-fallback {display: none;}</style><div id=\"sk-container-id-1\" class=\"sk-top-container\"><div class=\"sk-text-repr-fallback\"><pre>TfidfVectorizer()</pre><b>In a Jupyter environment, please rerun this cell to show the HTML representation or trust the notebook. <br />On GitHub, the HTML representation is unable to render, please try loading this page with nbviewer.org.</b></div><div class=\"sk-container\" hidden><div class=\"sk-item\"><div class=\"sk-estimator sk-toggleable\"><input class=\"sk-toggleable__control sk-hidden--visually\" id=\"sk-estimator-id-1\" type=\"checkbox\" checked><label for=\"sk-estimator-id-1\" class=\"sk-toggleable__label sk-toggleable__label-arrow\">TfidfVectorizer</label><div class=\"sk-toggleable__content\"><pre>TfidfVectorizer()</pre></div></div></div></div></div>"
     },
     "execution_count": 15,
     "metadata": {},
     "output_type": "execute_result"
    }
   ]
  },
  {
   "cell_type": "code",
   "metadata": {
    "id": "7NzGjNgzCuEN"
   },
   "source": [
    "# Build Features\n",
    "Xfeatures = tfidf.fit_transform(corpus).toarray()"
   ],
   "execution_count": 16,
   "outputs": []
  },
  {
   "cell_type": "code",
   "metadata": {
    "collapsed": true,
    "jupyter": {
     "outputs_hidden": true
    },
    "id": "qXcoSSSJCuEO",
    "outputId": "010c4fbf-7044-4b93-a518-8f4ea90ce45f"
   },
   "source": [
    "Xfeatures"
   ],
   "execution_count": 17,
   "outputs": [
    {
     "data": {
      "text/plain": "array([[0., 0., 0., ..., 0., 0., 0.],\n       [0., 0., 0., ..., 0., 0., 0.],\n       [0., 0., 0., ..., 0., 0., 0.],\n       ...,\n       [0., 0., 0., ..., 0., 0., 0.],\n       [0., 0., 0., ..., 0., 0., 0.],\n       [0., 0., 0., ..., 0., 0., 0.]])"
     },
     "execution_count": 17,
     "metadata": {},
     "output_type": "execute_result"
    }
   ]
  },
  {
   "cell_type": "code",
   "metadata": {
    "collapsed": true,
    "jupyter": {
     "outputs_hidden": true
    },
    "id": "SPVVV0C9CuEO",
    "outputId": "93c45a30-592b-4fed-b00c-8b8c087f1ea3"
   },
   "source": [
    "df.head()"
   ],
   "execution_count": 18,
   "outputs": [
    {
     "data": {
      "text/plain": "    Event Receive Time  DayOfWeek(Event Receive Time)  \\\n0  2022-10-25 17:14:00                              2   \n1  2022-10-25 17:14:00                              2   \n2  2022-10-25 17:14:00                              2   \n3  2022-10-25 17:14:00                              2   \n4  2022-10-25 17:14:00                              2   \n\n   HourOfDay(Event Receive Time)  \\\n0                             17   \n1                             17   \n2                             17   \n3                             17   \n4                             17   \n\n                                          Event Type  \\\n0  PH_RULE_Linux_Discovery_of_Network_Environment...   \n1                   PH_RULE_ANOMALY_TRAFFIC_NET_INTF   \n2                               PH_RULE_ESX_CPU_WARN   \n3                               PH_RULE_ESX_CPU_WARN   \n4                               PH_RULE_ESX_CPU_WARN   \n\n                                          Event Name  \\\n0  Linux: Discovery of Network Environment via Bu...   \n1       Sudden Increase in Network Interface Traffic   \n2                                    ESX CPU Warning   \n3                                    ESX CPU Warning   \n4                                    ESX CPU Warning   \n\n                                      Incident Title  \\\n0  Linux Discovery of Network Environment via Bui...   \n1  Sudden Increase in Network Interface Traffic o...   \n2    ESX CPU Warning on ussvnplesx58.fortinet-us.com   \n3    ESX CPU Warning on ussvnplesx57.fortinet-us.com   \n4    ESX CPU Warning on ussvnplesx51.fortinet-us.com   \n\n      Incident Reporting Device Incident Source  \\\n0          sp14816.fortinet.com             NaN   \n1  ussvnplesx56.fortinet-us.com             NaN   \n2  ussvnplesx58.fortinet-us.com             NaN   \n3  ussvnplesx57.fortinet-us.com             NaN   \n4  ussvnplesx51.fortinet-us.com             NaN   \n\n                                     Incident Target       Host IP  ...  \\\n0                                  hostName:sp14816,           NaN  ...   \n1  hostName:ussvnplesx56.fortinet-us.com, hostIpA...  172.30.54.56  ...   \n2  hostIpAddr:172.30.54.58, hostName:ussvnplesx58...  172.30.54.58  ...   \n3  hostIpAddr:172.30.54.57, hostName:ussvnplesx57...  172.30.54.57  ...   \n4  hostIpAddr:172.30.54.51, hostName:ussvnplesx51...  172.30.54.51  ...   \n\n  Incident Status  Incident Resolution  Incident Tag Name  Incident Comments  \\\n0               0                    1                NaN                NaN   \n1               0                    1                NaN                NaN   \n2               0                    1                NaN                NaN   \n3               0                    1                NaN                NaN   \n4               0                    1                NaN                NaN   \n\n   Incident Category                                   Attack Technique  \\\n0                  4  [{\"name\": \"System Network Configuration Discov...   \n1                  4  [{\"name\": \"Network Denial of Service: Direct N...   \n2                  2  [{\"name\": \"Endpoint Denial of Service: OS Exha...   \n3                  2  [{\"name\": \"Endpoint Denial of Service: OS Exha...   \n4                  2  [{\"name\": \"Endpoint Denial of Service: OS Exha...   \n\n  Attack Tactic user_A  user_B  user_C  \n0     Discovery    1.0     1.0     0.0  \n1        Impact    1.0     0.0     1.0  \n2        Impact    1.0     0.0     1.0  \n3        Impact    1.0     0.0     1.0  \n4        Impact    1.0     0.0     1.0  \n\n[5 rows x 21 columns]",
      "text/html": "<div>\n<style scoped>\n    .dataframe tbody tr th:only-of-type {\n        vertical-align: middle;\n    }\n\n    .dataframe tbody tr th {\n        vertical-align: top;\n    }\n\n    .dataframe thead th {\n        text-align: right;\n    }\n</style>\n<table border=\"1\" class=\"dataframe\">\n  <thead>\n    <tr style=\"text-align: right;\">\n      <th></th>\n      <th>Event Receive Time</th>\n      <th>DayOfWeek(Event Receive Time)</th>\n      <th>HourOfDay(Event Receive Time)</th>\n      <th>Event Type</th>\n      <th>Event Name</th>\n      <th>Incident Title</th>\n      <th>Incident Reporting Device</th>\n      <th>Incident Source</th>\n      <th>Incident Target</th>\n      <th>Host IP</th>\n      <th>...</th>\n      <th>Incident Status</th>\n      <th>Incident Resolution</th>\n      <th>Incident Tag Name</th>\n      <th>Incident Comments</th>\n      <th>Incident Category</th>\n      <th>Attack Technique</th>\n      <th>Attack Tactic</th>\n      <th>user_A</th>\n      <th>user_B</th>\n      <th>user_C</th>\n    </tr>\n  </thead>\n  <tbody>\n    <tr>\n      <th>0</th>\n      <td>2022-10-25 17:14:00</td>\n      <td>2</td>\n      <td>17</td>\n      <td>PH_RULE_Linux_Discovery_of_Network_Environment...</td>\n      <td>Linux: Discovery of Network Environment via Bu...</td>\n      <td>Linux Discovery of Network Environment via Bui...</td>\n      <td>sp14816.fortinet.com</td>\n      <td>NaN</td>\n      <td>hostName:sp14816,</td>\n      <td>NaN</td>\n      <td>...</td>\n      <td>0</td>\n      <td>1</td>\n      <td>NaN</td>\n      <td>NaN</td>\n      <td>4</td>\n      <td>[{\"name\": \"System Network Configuration Discov...</td>\n      <td>Discovery</td>\n      <td>1.0</td>\n      <td>1.0</td>\n      <td>0.0</td>\n    </tr>\n    <tr>\n      <th>1</th>\n      <td>2022-10-25 17:14:00</td>\n      <td>2</td>\n      <td>17</td>\n      <td>PH_RULE_ANOMALY_TRAFFIC_NET_INTF</td>\n      <td>Sudden Increase in Network Interface Traffic</td>\n      <td>Sudden Increase in Network Interface Traffic o...</td>\n      <td>ussvnplesx56.fortinet-us.com</td>\n      <td>NaN</td>\n      <td>hostName:ussvnplesx56.fortinet-us.com, hostIpA...</td>\n      <td>172.30.54.56</td>\n      <td>...</td>\n      <td>0</td>\n      <td>1</td>\n      <td>NaN</td>\n      <td>NaN</td>\n      <td>4</td>\n      <td>[{\"name\": \"Network Denial of Service: Direct N...</td>\n      <td>Impact</td>\n      <td>1.0</td>\n      <td>0.0</td>\n      <td>1.0</td>\n    </tr>\n    <tr>\n      <th>2</th>\n      <td>2022-10-25 17:14:00</td>\n      <td>2</td>\n      <td>17</td>\n      <td>PH_RULE_ESX_CPU_WARN</td>\n      <td>ESX CPU Warning</td>\n      <td>ESX CPU Warning on ussvnplesx58.fortinet-us.com</td>\n      <td>ussvnplesx58.fortinet-us.com</td>\n      <td>NaN</td>\n      <td>hostIpAddr:172.30.54.58, hostName:ussvnplesx58...</td>\n      <td>172.30.54.58</td>\n      <td>...</td>\n      <td>0</td>\n      <td>1</td>\n      <td>NaN</td>\n      <td>NaN</td>\n      <td>2</td>\n      <td>[{\"name\": \"Endpoint Denial of Service: OS Exha...</td>\n      <td>Impact</td>\n      <td>1.0</td>\n      <td>0.0</td>\n      <td>1.0</td>\n    </tr>\n    <tr>\n      <th>3</th>\n      <td>2022-10-25 17:14:00</td>\n      <td>2</td>\n      <td>17</td>\n      <td>PH_RULE_ESX_CPU_WARN</td>\n      <td>ESX CPU Warning</td>\n      <td>ESX CPU Warning on ussvnplesx57.fortinet-us.com</td>\n      <td>ussvnplesx57.fortinet-us.com</td>\n      <td>NaN</td>\n      <td>hostIpAddr:172.30.54.57, hostName:ussvnplesx57...</td>\n      <td>172.30.54.57</td>\n      <td>...</td>\n      <td>0</td>\n      <td>1</td>\n      <td>NaN</td>\n      <td>NaN</td>\n      <td>2</td>\n      <td>[{\"name\": \"Endpoint Denial of Service: OS Exha...</td>\n      <td>Impact</td>\n      <td>1.0</td>\n      <td>0.0</td>\n      <td>1.0</td>\n    </tr>\n    <tr>\n      <th>4</th>\n      <td>2022-10-25 17:14:00</td>\n      <td>2</td>\n      <td>17</td>\n      <td>PH_RULE_ESX_CPU_WARN</td>\n      <td>ESX CPU Warning</td>\n      <td>ESX CPU Warning on ussvnplesx51.fortinet-us.com</td>\n      <td>ussvnplesx51.fortinet-us.com</td>\n      <td>NaN</td>\n      <td>hostIpAddr:172.30.54.51, hostName:ussvnplesx51...</td>\n      <td>172.30.54.51</td>\n      <td>...</td>\n      <td>0</td>\n      <td>1</td>\n      <td>NaN</td>\n      <td>NaN</td>\n      <td>2</td>\n      <td>[{\"name\": \"Endpoint Denial of Service: OS Exha...</td>\n      <td>Impact</td>\n      <td>1.0</td>\n      <td>0.0</td>\n      <td>1.0</td>\n    </tr>\n  </tbody>\n</table>\n<p>5 rows × 21 columns</p>\n</div>"
     },
     "execution_count": 18,
     "metadata": {},
     "output_type": "execute_result"
    }
   ]
  },
  {
   "cell_type": "code",
   "metadata": {
    "id": "RHrqek4lCuEO"
   },
   "source": [
    "y = df[['user_A', 'user_B', 'user_C']]"
   ],
   "execution_count": 19,
   "outputs": []
  },
  {
   "cell_type": "code",
   "metadata": {
    "id": "ElnSVnH2CuEO"
   },
   "source": [
    "# Split Data \n",
    "X_train,X_test,y_train,y_test = train_test_split(Xfeatures,y,test_size=0.3,random_state=42)"
   ],
   "execution_count": 20,
   "outputs": []
  },
  {
   "cell_type": "code",
   "metadata": {
    "id": "NblCAJUXCuEP"
   },
   "source": [
    "# Building Our Model\n",
    "# Estimator + Multilabel Estimator"
   ],
   "execution_count": 21,
   "outputs": []
  },
  {
   "cell_type": "markdown",
   "metadata": {
    "id": "fHm6tYhjCuEQ"
   },
   "source": [
    "### Binary Relevance classficiation\n",
    "+ Convert Our Multi-Label Prob to Multi-Class\n",
    "\n",
    "![](binary_relevance_multilabel_ml_jcharistech.png)"
   ]
  },
  {
   "cell_type": "code",
   "metadata": {
    "id": "9ESWilQcCuEQ"
   },
   "source": [
    "# Convert Our Multi-Label Prob to Multi-Class\n",
    "# binary classficiation\n",
    "binary_rel_clf = BinaryRelevance(MultinomialNB())"
   ],
   "execution_count": 22,
   "outputs": []
  },
  {
   "cell_type": "code",
   "metadata": {
    "id": "6uClqtD8CuEQ",
    "outputId": "8b962458-3780-45c1-95cb-16f6150bfb0b"
   },
   "source": [
    "binary_rel_clf.fit(X_train,y_train)"
   ],
   "execution_count": 23,
   "outputs": [
    {
     "ename": "ValueError",
     "evalue": "Input y contains NaN.",
     "output_type": "error",
     "traceback": [
      "\u001B[0;31m---------------------------------------------------------------------------\u001B[0m",
      "\u001B[0;31mValueError\u001B[0m                                Traceback (most recent call last)",
      "Cell \u001B[0;32mIn [23], line 1\u001B[0m\n\u001B[0;32m----> 1\u001B[0m \u001B[43mbinary_rel_clf\u001B[49m\u001B[38;5;241;43m.\u001B[39;49m\u001B[43mfit\u001B[49m\u001B[43m(\u001B[49m\u001B[43mX_train\u001B[49m\u001B[43m,\u001B[49m\u001B[43my_train\u001B[49m\u001B[43m)\u001B[49m\n",
      "File \u001B[0;32m~/PycharmProjects/python-jupyter-notebook/venv/lib/python3.9/site-packages/skmultilearn/problem_transform/br.py:161\u001B[0m, in \u001B[0;36mBinaryRelevance.fit\u001B[0;34m(self, X, y)\u001B[0m\n\u001B[1;32m    159\u001B[0m     \u001B[38;5;28;01mif\u001B[39;00m issparse(y_subset) \u001B[38;5;129;01mand\u001B[39;00m y_subset\u001B[38;5;241m.\u001B[39mndim \u001B[38;5;241m>\u001B[39m \u001B[38;5;241m1\u001B[39m \u001B[38;5;129;01mand\u001B[39;00m y_subset\u001B[38;5;241m.\u001B[39mshape[\u001B[38;5;241m1\u001B[39m] \u001B[38;5;241m==\u001B[39m \u001B[38;5;241m1\u001B[39m:\n\u001B[1;32m    160\u001B[0m         y_subset \u001B[38;5;241m=\u001B[39m np\u001B[38;5;241m.\u001B[39mravel(y_subset\u001B[38;5;241m.\u001B[39mtoarray())\n\u001B[0;32m--> 161\u001B[0m     \u001B[43mclassifier\u001B[49m\u001B[38;5;241;43m.\u001B[39;49m\u001B[43mfit\u001B[49m\u001B[43m(\u001B[49m\u001B[38;5;28;43mself\u001B[39;49m\u001B[38;5;241;43m.\u001B[39;49m\u001B[43m_ensure_input_format\u001B[49m\u001B[43m(\u001B[49m\n\u001B[1;32m    162\u001B[0m \u001B[43m        \u001B[49m\u001B[43mX\u001B[49m\u001B[43m)\u001B[49m\u001B[43m,\u001B[49m\u001B[43m \u001B[49m\u001B[38;5;28;43mself\u001B[39;49m\u001B[38;5;241;43m.\u001B[39;49m\u001B[43m_ensure_output_format\u001B[49m\u001B[43m(\u001B[49m\u001B[43my_subset\u001B[49m\u001B[43m)\u001B[49m\u001B[43m)\u001B[49m\n\u001B[1;32m    163\u001B[0m     \u001B[38;5;28mself\u001B[39m\u001B[38;5;241m.\u001B[39mclassifiers_\u001B[38;5;241m.\u001B[39mappend(classifier)\n\u001B[1;32m    165\u001B[0m \u001B[38;5;28;01mreturn\u001B[39;00m \u001B[38;5;28mself\u001B[39m\n",
      "File \u001B[0;32m~/PycharmProjects/python-jupyter-notebook/venv/lib/python3.9/site-packages/sklearn/naive_bayes.py:699\u001B[0m, in \u001B[0;36m_BaseDiscreteNB.fit\u001B[0;34m(self, X, y, sample_weight)\u001B[0m\n\u001B[1;32m    679\u001B[0m \u001B[38;5;28;01mdef\u001B[39;00m \u001B[38;5;21mfit\u001B[39m(\u001B[38;5;28mself\u001B[39m, X, y, sample_weight\u001B[38;5;241m=\u001B[39m\u001B[38;5;28;01mNone\u001B[39;00m):\n\u001B[1;32m    680\u001B[0m     \u001B[38;5;124;03m\"\"\"Fit Naive Bayes classifier according to X, y.\u001B[39;00m\n\u001B[1;32m    681\u001B[0m \n\u001B[1;32m    682\u001B[0m \u001B[38;5;124;03m    Parameters\u001B[39;00m\n\u001B[0;32m   (...)\u001B[0m\n\u001B[1;32m    697\u001B[0m \u001B[38;5;124;03m        Returns the instance itself.\u001B[39;00m\n\u001B[1;32m    698\u001B[0m \u001B[38;5;124;03m    \"\"\"\u001B[39;00m\n\u001B[0;32m--> 699\u001B[0m     X, y \u001B[38;5;241m=\u001B[39m \u001B[38;5;28;43mself\u001B[39;49m\u001B[38;5;241;43m.\u001B[39;49m\u001B[43m_check_X_y\u001B[49m\u001B[43m(\u001B[49m\u001B[43mX\u001B[49m\u001B[43m,\u001B[49m\u001B[43m \u001B[49m\u001B[43my\u001B[49m\u001B[43m)\u001B[49m\n\u001B[1;32m    700\u001B[0m     _, n_features \u001B[38;5;241m=\u001B[39m X\u001B[38;5;241m.\u001B[39mshape\n\u001B[1;32m    702\u001B[0m     labelbin \u001B[38;5;241m=\u001B[39m LabelBinarizer()\n",
      "File \u001B[0;32m~/PycharmProjects/python-jupyter-notebook/venv/lib/python3.9/site-packages/sklearn/naive_bayes.py:553\u001B[0m, in \u001B[0;36m_BaseDiscreteNB._check_X_y\u001B[0;34m(self, X, y, reset)\u001B[0m\n\u001B[1;32m    551\u001B[0m \u001B[38;5;28;01mdef\u001B[39;00m \u001B[38;5;21m_check_X_y\u001B[39m(\u001B[38;5;28mself\u001B[39m, X, y, reset\u001B[38;5;241m=\u001B[39m\u001B[38;5;28;01mTrue\u001B[39;00m):\n\u001B[1;32m    552\u001B[0m     \u001B[38;5;124;03m\"\"\"Validate X and y in fit methods.\"\"\"\u001B[39;00m\n\u001B[0;32m--> 553\u001B[0m     \u001B[38;5;28;01mreturn\u001B[39;00m \u001B[38;5;28;43mself\u001B[39;49m\u001B[38;5;241;43m.\u001B[39;49m\u001B[43m_validate_data\u001B[49m\u001B[43m(\u001B[49m\u001B[43mX\u001B[49m\u001B[43m,\u001B[49m\u001B[43m \u001B[49m\u001B[43my\u001B[49m\u001B[43m,\u001B[49m\u001B[43m \u001B[49m\u001B[43maccept_sparse\u001B[49m\u001B[38;5;241;43m=\u001B[39;49m\u001B[38;5;124;43m\"\u001B[39;49m\u001B[38;5;124;43mcsr\u001B[39;49m\u001B[38;5;124;43m\"\u001B[39;49m\u001B[43m,\u001B[49m\u001B[43m \u001B[49m\u001B[43mreset\u001B[49m\u001B[38;5;241;43m=\u001B[39;49m\u001B[43mreset\u001B[49m\u001B[43m)\u001B[49m\n",
      "File \u001B[0;32m~/PycharmProjects/python-jupyter-notebook/venv/lib/python3.9/site-packages/sklearn/base.py:596\u001B[0m, in \u001B[0;36mBaseEstimator._validate_data\u001B[0;34m(self, X, y, reset, validate_separately, **check_params)\u001B[0m\n\u001B[1;32m    594\u001B[0m         y \u001B[38;5;241m=\u001B[39m check_array(y, input_name\u001B[38;5;241m=\u001B[39m\u001B[38;5;124m\"\u001B[39m\u001B[38;5;124my\u001B[39m\u001B[38;5;124m\"\u001B[39m, \u001B[38;5;241m*\u001B[39m\u001B[38;5;241m*\u001B[39mcheck_y_params)\n\u001B[1;32m    595\u001B[0m     \u001B[38;5;28;01melse\u001B[39;00m:\n\u001B[0;32m--> 596\u001B[0m         X, y \u001B[38;5;241m=\u001B[39m \u001B[43mcheck_X_y\u001B[49m\u001B[43m(\u001B[49m\u001B[43mX\u001B[49m\u001B[43m,\u001B[49m\u001B[43m \u001B[49m\u001B[43my\u001B[49m\u001B[43m,\u001B[49m\u001B[43m \u001B[49m\u001B[38;5;241;43m*\u001B[39;49m\u001B[38;5;241;43m*\u001B[39;49m\u001B[43mcheck_params\u001B[49m\u001B[43m)\u001B[49m\n\u001B[1;32m    597\u001B[0m     out \u001B[38;5;241m=\u001B[39m X, y\n\u001B[1;32m    599\u001B[0m \u001B[38;5;28;01mif\u001B[39;00m \u001B[38;5;129;01mnot\u001B[39;00m no_val_X \u001B[38;5;129;01mand\u001B[39;00m check_params\u001B[38;5;241m.\u001B[39mget(\u001B[38;5;124m\"\u001B[39m\u001B[38;5;124mensure_2d\u001B[39m\u001B[38;5;124m\"\u001B[39m, \u001B[38;5;28;01mTrue\u001B[39;00m):\n",
      "File \u001B[0;32m~/PycharmProjects/python-jupyter-notebook/venv/lib/python3.9/site-packages/sklearn/utils/validation.py:1090\u001B[0m, in \u001B[0;36mcheck_X_y\u001B[0;34m(X, y, accept_sparse, accept_large_sparse, dtype, order, copy, force_all_finite, ensure_2d, allow_nd, multi_output, ensure_min_samples, ensure_min_features, y_numeric, estimator)\u001B[0m\n\u001B[1;32m   1070\u001B[0m     \u001B[38;5;28;01mraise\u001B[39;00m \u001B[38;5;167;01mValueError\u001B[39;00m(\n\u001B[1;32m   1071\u001B[0m         \u001B[38;5;124mf\u001B[39m\u001B[38;5;124m\"\u001B[39m\u001B[38;5;132;01m{\u001B[39;00mestimator_name\u001B[38;5;132;01m}\u001B[39;00m\u001B[38;5;124m requires y to be passed, but the target y is None\u001B[39m\u001B[38;5;124m\"\u001B[39m\n\u001B[1;32m   1072\u001B[0m     )\n\u001B[1;32m   1074\u001B[0m X \u001B[38;5;241m=\u001B[39m check_array(\n\u001B[1;32m   1075\u001B[0m     X,\n\u001B[1;32m   1076\u001B[0m     accept_sparse\u001B[38;5;241m=\u001B[39maccept_sparse,\n\u001B[0;32m   (...)\u001B[0m\n\u001B[1;32m   1087\u001B[0m     input_name\u001B[38;5;241m=\u001B[39m\u001B[38;5;124m\"\u001B[39m\u001B[38;5;124mX\u001B[39m\u001B[38;5;124m\"\u001B[39m,\n\u001B[1;32m   1088\u001B[0m )\n\u001B[0;32m-> 1090\u001B[0m y \u001B[38;5;241m=\u001B[39m \u001B[43m_check_y\u001B[49m\u001B[43m(\u001B[49m\u001B[43my\u001B[49m\u001B[43m,\u001B[49m\u001B[43m \u001B[49m\u001B[43mmulti_output\u001B[49m\u001B[38;5;241;43m=\u001B[39;49m\u001B[43mmulti_output\u001B[49m\u001B[43m,\u001B[49m\u001B[43m \u001B[49m\u001B[43my_numeric\u001B[49m\u001B[38;5;241;43m=\u001B[39;49m\u001B[43my_numeric\u001B[49m\u001B[43m,\u001B[49m\u001B[43m \u001B[49m\u001B[43mestimator\u001B[49m\u001B[38;5;241;43m=\u001B[39;49m\u001B[43mestimator\u001B[49m\u001B[43m)\u001B[49m\n\u001B[1;32m   1092\u001B[0m check_consistent_length(X, y)\n\u001B[1;32m   1094\u001B[0m \u001B[38;5;28;01mreturn\u001B[39;00m X, y\n",
      "File \u001B[0;32m~/PycharmProjects/python-jupyter-notebook/venv/lib/python3.9/site-packages/sklearn/utils/validation.py:1112\u001B[0m, in \u001B[0;36m_check_y\u001B[0;34m(y, multi_output, y_numeric, estimator)\u001B[0m\n\u001B[1;32m   1110\u001B[0m     estimator_name \u001B[38;5;241m=\u001B[39m _check_estimator_name(estimator)\n\u001B[1;32m   1111\u001B[0m     y \u001B[38;5;241m=\u001B[39m column_or_1d(y, warn\u001B[38;5;241m=\u001B[39m\u001B[38;5;28;01mTrue\u001B[39;00m)\n\u001B[0;32m-> 1112\u001B[0m     \u001B[43m_assert_all_finite\u001B[49m\u001B[43m(\u001B[49m\u001B[43my\u001B[49m\u001B[43m,\u001B[49m\u001B[43m \u001B[49m\u001B[43minput_name\u001B[49m\u001B[38;5;241;43m=\u001B[39;49m\u001B[38;5;124;43m\"\u001B[39;49m\u001B[38;5;124;43my\u001B[39;49m\u001B[38;5;124;43m\"\u001B[39;49m\u001B[43m,\u001B[49m\u001B[43m \u001B[49m\u001B[43mestimator_name\u001B[49m\u001B[38;5;241;43m=\u001B[39;49m\u001B[43mestimator_name\u001B[49m\u001B[43m)\u001B[49m\n\u001B[1;32m   1113\u001B[0m     _ensure_no_complex_data(y)\n\u001B[1;32m   1114\u001B[0m \u001B[38;5;28;01mif\u001B[39;00m y_numeric \u001B[38;5;129;01mand\u001B[39;00m y\u001B[38;5;241m.\u001B[39mdtype\u001B[38;5;241m.\u001B[39mkind \u001B[38;5;241m==\u001B[39m \u001B[38;5;124m\"\u001B[39m\u001B[38;5;124mO\u001B[39m\u001B[38;5;124m\"\u001B[39m:\n",
      "File \u001B[0;32m~/PycharmProjects/python-jupyter-notebook/venv/lib/python3.9/site-packages/sklearn/utils/validation.py:146\u001B[0m, in \u001B[0;36m_assert_all_finite\u001B[0;34m(X, allow_nan, msg_dtype, estimator_name, input_name)\u001B[0m\n\u001B[1;32m    124\u001B[0m         \u001B[38;5;28;01mif\u001B[39;00m (\n\u001B[1;32m    125\u001B[0m             \u001B[38;5;129;01mnot\u001B[39;00m allow_nan\n\u001B[1;32m    126\u001B[0m             \u001B[38;5;129;01mand\u001B[39;00m estimator_name\n\u001B[0;32m   (...)\u001B[0m\n\u001B[1;32m    130\u001B[0m             \u001B[38;5;66;03m# Improve the error message on how to handle missing values in\u001B[39;00m\n\u001B[1;32m    131\u001B[0m             \u001B[38;5;66;03m# scikit-learn.\u001B[39;00m\n\u001B[1;32m    132\u001B[0m             msg_err \u001B[38;5;241m+\u001B[39m\u001B[38;5;241m=\u001B[39m (\n\u001B[1;32m    133\u001B[0m                 \u001B[38;5;124mf\u001B[39m\u001B[38;5;124m\"\u001B[39m\u001B[38;5;130;01m\\n\u001B[39;00m\u001B[38;5;132;01m{\u001B[39;00mestimator_name\u001B[38;5;132;01m}\u001B[39;00m\u001B[38;5;124m does not accept missing values\u001B[39m\u001B[38;5;124m\"\u001B[39m\n\u001B[1;32m    134\u001B[0m                 \u001B[38;5;124m\"\u001B[39m\u001B[38;5;124m encoded as NaN natively. For supervised learning, you might want\u001B[39m\u001B[38;5;124m\"\u001B[39m\n\u001B[0;32m   (...)\u001B[0m\n\u001B[1;32m    144\u001B[0m                 \u001B[38;5;124m\"\u001B[39m\u001B[38;5;124m#estimators-that-handle-nan-values\u001B[39m\u001B[38;5;124m\"\u001B[39m\n\u001B[1;32m    145\u001B[0m             )\n\u001B[0;32m--> 146\u001B[0m         \u001B[38;5;28;01mraise\u001B[39;00m \u001B[38;5;167;01mValueError\u001B[39;00m(msg_err)\n\u001B[1;32m    148\u001B[0m \u001B[38;5;66;03m# for object dtype data, we only check for NaNs (GH-13254)\u001B[39;00m\n\u001B[1;32m    149\u001B[0m \u001B[38;5;28;01melif\u001B[39;00m X\u001B[38;5;241m.\u001B[39mdtype \u001B[38;5;241m==\u001B[39m np\u001B[38;5;241m.\u001B[39mdtype(\u001B[38;5;124m\"\u001B[39m\u001B[38;5;124mobject\u001B[39m\u001B[38;5;124m\"\u001B[39m) \u001B[38;5;129;01mand\u001B[39;00m \u001B[38;5;129;01mnot\u001B[39;00m allow_nan:\n",
      "\u001B[0;31mValueError\u001B[0m: Input y contains NaN."
     ]
    }
   ]
  },
  {
   "cell_type": "code",
   "metadata": {
    "id": "APTkS6HjCuEQ"
   },
   "source": [
    "# Predictions\n",
    "br_prediction = binary_rel_clf.predict(X_test)"
   ],
   "execution_count": null,
   "outputs": []
  },
  {
   "cell_type": "code",
   "metadata": {
    "collapsed": true,
    "jupyter": {
     "outputs_hidden": true
    },
    "id": "vQs43G8gCuER",
    "outputId": "f23212be-bae5-458b-9427-b1e0801c84f4"
   },
   "source": [
    "# Convert to Array  To See Result\n",
    "br_prediction.toarray()"
   ],
   "execution_count": null,
   "outputs": []
  },
  {
   "cell_type": "code",
   "metadata": {
    "id": "TpYYI_tTCuER",
    "outputId": "3c189ab9-6192-4c25-bf5c-bc2a72392bbf"
   },
   "source": [
    "# Accuracy\n",
    "accuracy_score(y_test,br_prediction)"
   ],
   "execution_count": null,
   "outputs": []
  },
  {
   "cell_type": "code",
   "metadata": {
    "id": "7QkrnYIbCuER",
    "outputId": "68dc43ff-50ce-4be0-e995-e48c332b7b2a"
   },
   "source": [
    "# Hamming Loss :Incorrect Predictions\n",
    "# The Lower the result the better\n",
    "hamming_loss(y_test,br_prediction)"
   ],
   "execution_count": null,
   "outputs": []
  },
  {
   "cell_type": "markdown",
   "metadata": {
    "id": "nXJibv9eCuER"
   },
   "source": [
    "#### Classifier Chains\n",
    "+ Preserve Label Correlation\n",
    "\n",
    "![](classifier_chains_multilabel_jcharistech.png)"
   ]
  },
  {
   "cell_type": "code",
   "metadata": {
    "jupyter": {
     "source_hidden": true
    },
    "id": "foVQ79g9CuES"
   },
   "source": [
    "def build_model(model,mlb_estimator,xtrain,ytrain,xtest,ytest):\n",
    "    # Create an Instance\n",
    "    clf = mlb_estimator(model)\n",
    "    clf.fit(xtrain,ytrain)\n",
    "    # Predict\n",
    "    clf_predictions = clf.predict(xtest)\n",
    "    # Check For Accuracy\n",
    "    acc = accuracy_score(ytest,clf_predictions)\n",
    "    ham = hamming_loss(ytest,clf_predictions)\n",
    "    result = {\"accuracy:\":acc,\"hamming_score\":ham}\n",
    "    return result"
   ],
   "execution_count": null,
   "outputs": []
  },
  {
   "cell_type": "code",
   "metadata": {
    "id": "OGbfj8pECuES"
   },
   "source": [
    "clf_chain_model = build_model(MultinomialNB(),ClassifierChain,X_train,y_train,X_test,y_test)"
   ],
   "execution_count": null,
   "outputs": []
  },
  {
   "cell_type": "code",
   "metadata": {
    "id": "NvYMsmkjCuES",
    "outputId": "4b864393-9230-4d33-b295-91b9c64ee1d1"
   },
   "source": [
    "clf_chain_model"
   ],
   "execution_count": null,
   "outputs": []
  },
  {
   "cell_type": "markdown",
   "metadata": {
    "id": "8k3VsuwjCuES"
   },
   "source": [
    "#### LabelPowerset\n",
    "![](labelPowerset_multilabel_ml_jcharistech.png)"
   ]
  },
  {
   "cell_type": "code",
   "metadata": {
    "id": "gNOEODPmCuES"
   },
   "source": [
    "clf_labelP_model = build_model(MultinomialNB(),LabelPowerset,X_train,y_train,X_test,y_test)"
   ],
   "execution_count": null,
   "outputs": []
  },
  {
   "cell_type": "code",
   "metadata": {
    "id": "qr7n7lRMCuES",
    "outputId": "c6ab9d75-4780-446c-8d2d-92db6f3a1b1b"
   },
   "source": [
    "clf_labelP_model"
   ],
   "execution_count": null,
   "outputs": []
  },
  {
   "cell_type": "code",
   "metadata": {
    "id": "eEphe6EcCuET"
   },
   "source": [
    "### Apply On A Simple Ttitle/Question"
   ],
   "execution_count": null,
   "outputs": []
  },
  {
   "cell_type": "code",
   "metadata": {
    "id": "e41qz5GGCuET"
   },
   "source": [
    "ex1 = df['Incident Title'].iloc[0]"
   ],
   "execution_count": null,
   "outputs": []
  },
  {
   "cell_type": "code",
   "metadata": {
    "id": "N0eUBIVlCuET"
   },
   "source": [
    "# Vectorized \n",
    "vec_example = tfidf.transform([ex1])"
   ],
   "execution_count": null,
   "outputs": []
  },
  {
   "cell_type": "code",
   "metadata": {
    "id": "yF5rJTczCuET",
    "outputId": "b78f06b5-c744-4ff7-b9c7-a7954d5c97ed"
   },
   "source": [
    "# Make our prediction\n",
    "binary_rel_clf.predict(vec_example).toarray()"
   ],
   "execution_count": null,
   "outputs": []
  }
 ]
}
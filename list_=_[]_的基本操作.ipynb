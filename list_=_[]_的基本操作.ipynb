{
  "nbformat": 4,
  "nbformat_minor": 0,
  "metadata": {
    "colab": {
      "name": "list = [] 的基本操作.ipynb",
      "provenance": []
    },
    "kernelspec": {
      "name": "python3",
      "display_name": "Python 3"
    },
    "language_info": {
      "name": "python"
    }
  },
  "cells": [
    {
      "cell_type": "markdown",
      "source": [
        "https://www.w3schools.com/python/python_lists_methods.asp\n",
        "\n",
        "append()\tAdds an element at the end of the list\n",
        "\n",
        "clear()\tRemoves all the elements from the list\n",
        "\n",
        "copy()\tReturns a copy of the list\n",
        "\n",
        "count()\tReturns the number of elements with the specified value\n",
        "\n",
        "extend()\tAdd the elements of a list (or any iterable), to the end of the current list\n",
        "\n",
        "index()\tReturns the index of the first element with the specified value\n",
        "\n",
        "insert()\tAdds an element at the specified position\n",
        "\n",
        "pop()\tRemoves the element at the specified position\n",
        "\n",
        "remove()\tRemoves the item with the specified value\n",
        "\n",
        "reverse()\tReverses the order of the list\n",
        "\n",
        "sort()\tSorts the list"
      ],
      "metadata": {
        "id": "Yl_UCXIOpi6E"
      }
    },
    {
      "cell_type": "markdown",
      "source": [
        "# For loop 遍历"
      ],
      "metadata": {
        "id": "ZBkZI2U4p2LQ"
      }
    },
    {
      "cell_type": "code",
      "source": [
        "list = []\n",
        "list.append(1)\n",
        "list.append(2)\n",
        "list.append(3)\n",
        "list.append(4)\n",
        "list"
      ],
      "metadata": {
        "colab": {
          "base_uri": "https://localhost:8080/"
        },
        "id": "yY5WxIv9p8KA",
        "outputId": "d4ac282d-0b73-40e9-b418-cce5df081264"
      },
      "execution_count": 52,
      "outputs": [
        {
          "output_type": "execute_result",
          "data": {
            "text/plain": [
              "[1, 2, 3, 4]"
            ]
          },
          "metadata": {},
          "execution_count": 52
        }
      ]
    },
    {
      "cell_type": "code",
      "source": [
        "list2 = [i + 1 for i in list]\n",
        "list2\n"
      ],
      "metadata": {
        "colab": {
          "base_uri": "https://localhost:8080/"
        },
        "id": "F3-mljfvp9O7",
        "outputId": "388e1668-a9c8-456d-83dc-93b52ee05736"
      },
      "execution_count": 53,
      "outputs": [
        {
          "output_type": "execute_result",
          "data": {
            "text/plain": [
              "[2, 3, 4, 5]"
            ]
          },
          "metadata": {},
          "execution_count": 53
        }
      ]
    },
    {
      "cell_type": "markdown",
      "source": [
        "# append() -> Adds an element at the end of the list"
      ],
      "metadata": {
        "id": "IwExlrAQmqgx"
      }
    },
    {
      "cell_type": "code",
      "execution_count": 54,
      "metadata": {
        "colab": {
          "base_uri": "https://localhost:8080/"
        },
        "id": "KUJpuZknmYDG",
        "outputId": "5785dbd7-49a9-441d-8808-59e9ccafd7a3"
      },
      "outputs": [
        {
          "output_type": "execute_result",
          "data": {
            "text/plain": [
              "['c', 'b', 'a', 'a']"
            ]
          },
          "metadata": {},
          "execution_count": 54
        }
      ],
      "source": [
        "list = []\n",
        "list.append('c')\n",
        "list.append('b')\n",
        "list.append('a')\n",
        "list.append('a')\n",
        "list"
      ]
    },
    {
      "cell_type": "markdown",
      "source": [
        "# sort() -> Sorts the list"
      ],
      "metadata": {
        "id": "w-TAoeiAm9V9"
      }
    },
    {
      "cell_type": "code",
      "source": [
        "list.sort()\n",
        "list"
      ],
      "metadata": {
        "colab": {
          "base_uri": "https://localhost:8080/"
        },
        "id": "hhYh78D8mjmq",
        "outputId": "6eb1b8e8-3649-4ba1-d49a-3ce87a5ef206"
      },
      "execution_count": 55,
      "outputs": [
        {
          "output_type": "execute_result",
          "data": {
            "text/plain": [
              "['a', 'a', 'b', 'c']"
            ]
          },
          "metadata": {},
          "execution_count": 55
        }
      ]
    },
    {
      "cell_type": "markdown",
      "source": [
        "# reverse() -> Reverses the order of the list"
      ],
      "metadata": {
        "id": "hJsGbc8FmxA2"
      }
    },
    {
      "cell_type": "code",
      "source": [
        "list.reverse()\n",
        "list"
      ],
      "metadata": {
        "colab": {
          "base_uri": "https://localhost:8080/"
        },
        "id": "0I5xXfOHnKAt",
        "outputId": "4130c925-060d-40f3-cd6a-953d7f5cdff7"
      },
      "execution_count": 56,
      "outputs": [
        {
          "output_type": "execute_result",
          "data": {
            "text/plain": [
              "['c', 'b', 'a', 'a']"
            ]
          },
          "metadata": {},
          "execution_count": 56
        }
      ]
    },
    {
      "cell_type": "markdown",
      "source": [
        "# count() -> Returns the number of elements with the specified value"
      ],
      "metadata": {
        "id": "0lmxHqQ9nFJH"
      }
    },
    {
      "cell_type": "code",
      "source": [
        "list.count('a')"
      ],
      "metadata": {
        "colab": {
          "base_uri": "https://localhost:8080/"
        },
        "id": "eQluChMVnajZ",
        "outputId": "7e4e8d95-da41-4965-e281-d4c2c45224fc"
      },
      "execution_count": 57,
      "outputs": [
        {
          "output_type": "execute_result",
          "data": {
            "text/plain": [
              "2"
            ]
          },
          "metadata": {},
          "execution_count": 57
        }
      ]
    },
    {
      "cell_type": "markdown",
      "source": [
        "# copy() -> Returns a copy of the list"
      ],
      "metadata": {
        "id": "M8NutxGlnpNC"
      }
    },
    {
      "cell_type": "code",
      "source": [
        "list2 = list.copy()\n",
        "list2"
      ],
      "metadata": {
        "colab": {
          "base_uri": "https://localhost:8080/"
        },
        "id": "xv3KKDljnifE",
        "outputId": "3467505d-bd99-4839-ce6a-063cc711c7e4"
      },
      "execution_count": 58,
      "outputs": [
        {
          "output_type": "execute_result",
          "data": {
            "text/plain": [
              "['c', 'b', 'a', 'a']"
            ]
          },
          "metadata": {},
          "execution_count": 58
        }
      ]
    },
    {
      "cell_type": "markdown",
      "source": [
        "# index() -> Returns the index of the first element with the specified value"
      ],
      "metadata": {
        "id": "-NvSkP7FnwA1"
      }
    },
    {
      "cell_type": "code",
      "source": [
        "list.index('a')"
      ],
      "metadata": {
        "colab": {
          "base_uri": "https://localhost:8080/"
        },
        "id": "crDDsfTTn01s",
        "outputId": "c1499f2f-a639-414c-b041-78b3bf667cbe"
      },
      "execution_count": 59,
      "outputs": [
        {
          "output_type": "execute_result",
          "data": {
            "text/plain": [
              "2"
            ]
          },
          "metadata": {},
          "execution_count": 59
        }
      ]
    },
    {
      "cell_type": "markdown",
      "source": [
        "# remove() -> Removes the item with the specified value"
      ],
      "metadata": {
        "id": "fPuy92obn49A"
      }
    },
    {
      "cell_type": "code",
      "source": [
        "list.remove('b')\n",
        "list"
      ],
      "metadata": {
        "colab": {
          "base_uri": "https://localhost:8080/"
        },
        "id": "Ors46G2in9tl",
        "outputId": "dd4cab75-a751-46c1-8975-b621e87b0316"
      },
      "execution_count": 60,
      "outputs": [
        {
          "output_type": "execute_result",
          "data": {
            "text/plain": [
              "['c', 'a', 'a']"
            ]
          },
          "metadata": {},
          "execution_count": 60
        }
      ]
    },
    {
      "cell_type": "markdown",
      "source": [
        "# insert() -> Adds an element at the specified position"
      ],
      "metadata": {
        "id": "OL8WSl4roMNV"
      }
    },
    {
      "cell_type": "code",
      "source": [
        "list.insert(1, 'b')\n",
        "list"
      ],
      "metadata": {
        "colab": {
          "base_uri": "https://localhost:8080/"
        },
        "id": "kDtehR2soRpV",
        "outputId": "d6188d05-82eb-43c6-bbcd-b15e4d288fbc"
      },
      "execution_count": 61,
      "outputs": [
        {
          "output_type": "execute_result",
          "data": {
            "text/plain": [
              "['c', 'b', 'a', 'a']"
            ]
          },
          "metadata": {},
          "execution_count": 61
        }
      ]
    },
    {
      "cell_type": "markdown",
      "source": [
        "# pop() -> Removes the element at the specified position"
      ],
      "metadata": {
        "id": "sq3eHSEhoix4"
      }
    },
    {
      "cell_type": "code",
      "source": [
        "list.pop(1)\n",
        "list"
      ],
      "metadata": {
        "colab": {
          "base_uri": "https://localhost:8080/"
        },
        "id": "rYd7lo3dom-z",
        "outputId": "9520249d-0a42-406f-d557-47f270e528f6"
      },
      "execution_count": 62,
      "outputs": [
        {
          "output_type": "execute_result",
          "data": {
            "text/plain": [
              "['c', 'a', 'a']"
            ]
          },
          "metadata": {},
          "execution_count": 62
        }
      ]
    },
    {
      "cell_type": "markdown",
      "source": [
        "# exdend() -> Add the elements of a list (or any iterable), to the end of the current list"
      ],
      "metadata": {
        "id": "ek73lOmho34a"
      }
    },
    {
      "cell_type": "code",
      "source": [
        "fruits = ['apple', 'banana', 'cherry']\n",
        "\n",
        "cars = ['Ford', 'BMW', 'Volvo']\n",
        "\n",
        "fruits.extend(cars)\n",
        "\n",
        "fruits"
      ],
      "metadata": {
        "colab": {
          "base_uri": "https://localhost:8080/"
        },
        "id": "6-oC4PejpLEt",
        "outputId": "27fd9efd-9bea-4ff9-a418-1f28c69f2062"
      },
      "execution_count": 63,
      "outputs": [
        {
          "output_type": "execute_result",
          "data": {
            "text/plain": [
              "['apple', 'banana', 'cherry', 'Ford', 'BMW', 'Volvo']"
            ]
          },
          "metadata": {},
          "execution_count": 63
        }
      ]
    },
    {
      "cell_type": "markdown",
      "source": [
        "# clear() -> Removes all the elements from the list"
      ],
      "metadata": {
        "id": "Ht8knAAGpTcJ"
      }
    },
    {
      "cell_type": "code",
      "source": [
        "fruits = ['apple', 'banana', 'cherry', 'orange']\n",
        "fruits\n"
      ],
      "metadata": {
        "colab": {
          "base_uri": "https://localhost:8080/"
        },
        "id": "IUvrT64spRE8",
        "outputId": "d069dba2-847b-4015-969f-5ba76ccaa549"
      },
      "execution_count": 64,
      "outputs": [
        {
          "output_type": "execute_result",
          "data": {
            "text/plain": [
              "['apple', 'banana', 'cherry', 'orange']"
            ]
          },
          "metadata": {},
          "execution_count": 64
        }
      ]
    },
    {
      "cell_type": "code",
      "source": [
        "fruits.clear()\n",
        "fruits"
      ],
      "metadata": {
        "colab": {
          "base_uri": "https://localhost:8080/"
        },
        "id": "qYcLZ3cNpdR2",
        "outputId": "b9838f47-6c8a-46c3-9834-85a4da4a423f"
      },
      "execution_count": 65,
      "outputs": [
        {
          "output_type": "execute_result",
          "data": {
            "text/plain": [
              "[]"
            ]
          },
          "metadata": {},
          "execution_count": 65
        }
      ]
    }
  ]
}
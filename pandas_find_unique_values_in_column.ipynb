{
 "cells": [
  {
   "cell_type": "code",
   "execution_count": 8,
   "metadata": {
    "collapsed": true,
    "pycharm": {
     "name": "#%%\n"
    }
   },
   "outputs": [],
   "source": [
    "import pandas as pd\n",
    "\n",
    "#create DataFrame\n",
    "df = pd.DataFrame({'team': ['A', 'A', 'A', 'B', 'B', 'C'],\n",
    "                   'conference': ['East', 'East', 'East', 'West', 'West', 'East'],\n",
    "                   'points': [11, 8, 10, 6, 6, 5]})"
   ]
  },
  {
   "cell_type": "code",
   "execution_count": 9,
   "outputs": [
    {
     "data": {
      "text/plain": "  team conference  points\n0    A       East      11\n1    A       East       8\n2    A       East      10\n3    B       West       6\n4    B       West       6\n5    C       East       5",
      "text/html": "<div>\n<style scoped>\n    .dataframe tbody tr th:only-of-type {\n        vertical-align: middle;\n    }\n\n    .dataframe tbody tr th {\n        vertical-align: top;\n    }\n\n    .dataframe thead th {\n        text-align: right;\n    }\n</style>\n<table border=\"1\" class=\"dataframe\">\n  <thead>\n    <tr style=\"text-align: right;\">\n      <th></th>\n      <th>team</th>\n      <th>conference</th>\n      <th>points</th>\n    </tr>\n  </thead>\n  <tbody>\n    <tr>\n      <th>0</th>\n      <td>A</td>\n      <td>East</td>\n      <td>11</td>\n    </tr>\n    <tr>\n      <th>1</th>\n      <td>A</td>\n      <td>East</td>\n      <td>8</td>\n    </tr>\n    <tr>\n      <th>2</th>\n      <td>A</td>\n      <td>East</td>\n      <td>10</td>\n    </tr>\n    <tr>\n      <th>3</th>\n      <td>B</td>\n      <td>West</td>\n      <td>6</td>\n    </tr>\n    <tr>\n      <th>4</th>\n      <td>B</td>\n      <td>West</td>\n      <td>6</td>\n    </tr>\n    <tr>\n      <th>5</th>\n      <td>C</td>\n      <td>East</td>\n      <td>5</td>\n    </tr>\n  </tbody>\n</table>\n</div>"
     },
     "execution_count": 9,
     "metadata": {},
     "output_type": "execute_result"
    }
   ],
   "source": [
    "#view DataFrame\n",
    "df"
   ],
   "metadata": {
    "collapsed": false,
    "pycharm": {
     "name": "#%%\n"
    }
   }
  },
  {
   "cell_type": "code",
   "execution_count": 10,
   "outputs": [
    {
     "name": "stdout",
     "output_type": "stream",
     "text": [
      "['A' 'B' 'C']\n",
      "['East' 'West']\n",
      "[11  8 10  6  5]\n"
     ]
    }
   ],
   "source": [
    "for col in df:\n",
    "  print(df[col].unique())"
   ],
   "metadata": {
    "collapsed": false,
    "pycharm": {
     "name": "#%%\n"
    }
   }
  },
  {
   "cell_type": "code",
   "execution_count": 11,
   "outputs": [
    {
     "data": {
      "text/plain": "array(['A', 'B', 'C'], dtype=object)"
     },
     "execution_count": 11,
     "metadata": {},
     "output_type": "execute_result"
    }
   ],
   "source": [
    "'''\n",
    "Find Unique Values in One Column\n",
    "The following code shows how to find the unique values in a single column of the DataFrame:\n",
    "'''\n",
    "df.team.unique()"
   ],
   "metadata": {
    "collapsed": false,
    "pycharm": {
     "name": "#%%\n"
    }
   }
  },
  {
   "cell_type": "code",
   "execution_count": 12,
   "outputs": [
    {
     "name": "stdout",
     "output_type": "stream",
     "text": [
      "['A' 'B' 'C']\n",
      "['East' 'West']\n",
      "[11  8 10  6  5]\n"
     ]
    }
   ],
   "source": [
    "'''\n",
    "Find Unique Values in All Columns\n",
    "The following code shows how to find the unique values in all columns of the DataFrame:\n",
    "'''\n",
    "for col in df:\n",
    "  print(df[col].unique())"
   ],
   "metadata": {
    "collapsed": false,
    "pycharm": {
     "name": "#%%\n"
    }
   }
  },
  {
   "cell_type": "code",
   "execution_count": 13,
   "outputs": [
    {
     "data": {
      "text/plain": "array([ 5,  6,  8, 10, 11])"
     },
     "execution_count": 13,
     "metadata": {},
     "output_type": "execute_result"
    }
   ],
   "source": [
    "'''\n",
    "Find and Sort Unique Values in a Column\n",
    "The following code shows how to find and sort by unique values in a single column of the DataFrame:\n",
    "'''\n",
    "#find unique points values\n",
    "points = df.points.unique()\n",
    "\n",
    "#sort values smallest to largest\n",
    "points.sort()\n",
    "\n",
    "#display sorted values\n",
    "points"
   ],
   "metadata": {
    "collapsed": false,
    "pycharm": {
     "name": "#%%\n"
    }
   }
  },
  {
   "cell_type": "code",
   "execution_count": 14,
   "outputs": [
    {
     "data": {
      "text/plain": "A    3\nB    2\nC    1\nName: team, dtype: int64"
     },
     "execution_count": 14,
     "metadata": {},
     "output_type": "execute_result"
    }
   ],
   "source": [
    "'''\n",
    "Find and Count Unique Values in a Column\n",
    "\n",
    "The following code shows how to find and count the occurrence of unique values in a single column of the DataFrame:\n",
    "'''\n",
    "df.team.value_counts()"
   ],
   "metadata": {
    "collapsed": false,
    "pycharm": {
     "name": "#%%\n"
    }
   }
  }
 ],
 "metadata": {
  "kernelspec": {
   "display_name": "Python 3",
   "language": "python",
   "name": "python3"
  },
  "language_info": {
   "codemirror_mode": {
    "name": "ipython",
    "version": 2
   },
   "file_extension": ".py",
   "mimetype": "text/x-python",
   "name": "python",
   "nbconvert_exporter": "python",
   "pygments_lexer": "ipython2",
   "version": "2.7.6"
  }
 },
 "nbformat": 4,
 "nbformat_minor": 0
}
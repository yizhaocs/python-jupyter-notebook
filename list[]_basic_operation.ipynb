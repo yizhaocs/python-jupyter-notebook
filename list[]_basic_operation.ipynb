{
  "nbformat": 4,
  "nbformat_minor": 0,
  "metadata": {
    "colab": {
      "name": "list = [] 的基本操作.ipynb",
      "provenance": []
    },
    "kernelspec": {
      "name": "python3",
      "display_name": "Python 3"
    },
    "language_info": {
      "name": "python"
    }
  },
  "cells": [
    {
      "cell_type": "markdown",
      "source": [
        "https://www.w3schools.com/python/python_lists_methods.asp\n",
        "\n",
        "append()\tAdds an element at the end of the list\n",
        "\n",
        "clear()\tRemoves all the elements from the list\n",
        "\n",
        "copy()\tReturns a copy of the list\n",
        "\n",
        "count()\tReturns the number of elements with the specified value\n",
        "\n",
        "extend()\tAdd the elements of a list (or any iterable), to the end of the current list\n",
        "\n",
        "index()\tReturns the index of the first element with the specified value\n",
        "\n",
        "insert()\tAdds an element at the specified position\n",
        "\n",
        "pop()\tRemoves the element at the specified position\n",
        "\n",
        "remove()\tRemoves the item with the specified value\n",
        "\n",
        "reverse()\tReverses the order of the list\n",
        "\n",
        "sort()\tSorts the list"
      ],
      "metadata": {
        "id": "Yl_UCXIOpi6E"
      }
    },
    {
      "cell_type": "markdown",
      "source": [
        "# For loop 遍历"
      ],
      "metadata": {
        "id": "ZBkZI2U4p2LQ"
      }
    },
    {
      "cell_type": "code",
      "source": [
        "list = []\n",
        "list.append(1)\n",
        "list.append(2)\n",
        "list.append(3)\n",
        "list.append(4)\n",
        "list"
      ],
      "metadata": {
        "colab": {
          "base_uri": "https://localhost:8080/"
        },
        "id": "yY5WxIv9p8KA",
        "outputId": "82892662-6e3b-4954-b5d0-9fafed5c8834"
      },
      "execution_count": 29,
      "outputs": [
        {
          "output_type": "execute_result",
          "data": {
            "text/plain": [
              "[1, 2, 3, 4]"
            ]
          },
          "metadata": {},
          "execution_count": 29
        }
      ]
    },
    {
      "cell_type": "code",
      "source": [
        "list2 = [i + 1 for i in list]\n",
        "list2\n"
      ],
      "metadata": {
        "colab": {
          "base_uri": "https://localhost:8080/"
        },
        "id": "F3-mljfvp9O7",
        "outputId": "70b339c6-99ab-4f10-d85b-3a4e7cd1be3c"
      },
      "execution_count": 30,
      "outputs": [
        {
          "output_type": "execute_result",
          "data": {
            "text/plain": [
              "[2, 3, 4, 5]"
            ]
          },
          "metadata": {},
          "execution_count": 30
        }
      ]
    },
    {
      "cell_type": "code",
      "source": [
        "list2 = [list[i] + 1 for i in range(0, len(list))]\n",
        "list2"
      ],
      "metadata": {
        "colab": {
          "base_uri": "https://localhost:8080/"
        },
        "id": "gfp5Pr9VMdTw",
        "outputId": "7f4a25a7-1fec-4442-cf55-1f7c5dc989ea"
      },
      "execution_count": 31,
      "outputs": [
        {
          "output_type": "execute_result",
          "data": {
            "text/plain": [
              "[2, 3, 4, 5]"
            ]
          },
          "metadata": {},
          "execution_count": 31
        }
      ]
    },
    {
      "cell_type": "markdown",
      "source": [
        "# append() -> Adds an element at the end of the list"
      ],
      "metadata": {
        "id": "IwExlrAQmqgx"
      }
    },
    {
      "cell_type": "code",
      "execution_count": 32,
      "metadata": {
        "colab": {
          "base_uri": "https://localhost:8080/"
        },
        "id": "KUJpuZknmYDG",
        "outputId": "792d70f4-66e4-4bd1-ec70-454aa044ac93"
      },
      "outputs": [
        {
          "output_type": "execute_result",
          "data": {
            "text/plain": [
              "['c', 'b', 'a', 'a']"
            ]
          },
          "metadata": {},
          "execution_count": 32
        }
      ],
      "source": [
        "list = []\n",
        "list.append('c')\n",
        "list.append('b')\n",
        "list.append('a')\n",
        "list.append('a')\n",
        "list"
      ]
    },
    {
      "cell_type": "markdown",
      "source": [
        "# sort() -> Sorts the list"
      ],
      "metadata": {
        "id": "w-TAoeiAm9V9"
      }
    },
    {
      "cell_type": "code",
      "source": [
        "list.sort()\n",
        "list"
      ],
      "metadata": {
        "colab": {
          "base_uri": "https://localhost:8080/"
        },
        "id": "hhYh78D8mjmq",
        "outputId": "71e82846-c020-4999-f584-fe6d652bdea1"
      },
      "execution_count": 33,
      "outputs": [
        {
          "output_type": "execute_result",
          "data": {
            "text/plain": [
              "['a', 'a', 'b', 'c']"
            ]
          },
          "metadata": {},
          "execution_count": 33
        }
      ]
    },
    {
      "cell_type": "markdown",
      "source": [
        "# reverse() -> Reverses the order of the list"
      ],
      "metadata": {
        "id": "hJsGbc8FmxA2"
      }
    },
    {
      "cell_type": "code",
      "source": [
        "list.reverse()\n",
        "list"
      ],
      "metadata": {
        "colab": {
          "base_uri": "https://localhost:8080/"
        },
        "id": "0I5xXfOHnKAt",
        "outputId": "e4d5aab7-1684-4572-e28b-8307d0ab4d7f"
      },
      "execution_count": 34,
      "outputs": [
        {
          "output_type": "execute_result",
          "data": {
            "text/plain": [
              "['c', 'b', 'a', 'a']"
            ]
          },
          "metadata": {},
          "execution_count": 34
        }
      ]
    },
    {
      "cell_type": "markdown",
      "source": [
        "# count() -> Returns the number of elements with the specified value"
      ],
      "metadata": {
        "id": "0lmxHqQ9nFJH"
      }
    },
    {
      "cell_type": "code",
      "source": [
        "list.count('a')"
      ],
      "metadata": {
        "colab": {
          "base_uri": "https://localhost:8080/"
        },
        "id": "eQluChMVnajZ",
        "outputId": "9301bfb5-6351-4d71-b3e6-bbc5d9cb9d8a"
      },
      "execution_count": 35,
      "outputs": [
        {
          "output_type": "execute_result",
          "data": {
            "text/plain": [
              "2"
            ]
          },
          "metadata": {},
          "execution_count": 35
        }
      ]
    },
    {
      "cell_type": "markdown",
      "source": [
        "# copy() -> Returns a copy of the list"
      ],
      "metadata": {
        "id": "M8NutxGlnpNC"
      }
    },
    {
      "cell_type": "code",
      "source": [
        "list2 = list.copy()\n",
        "list2"
      ],
      "metadata": {
        "colab": {
          "base_uri": "https://localhost:8080/"
        },
        "id": "xv3KKDljnifE",
        "outputId": "059f969f-0430-4694-eb24-fbf2074b4559"
      },
      "execution_count": 36,
      "outputs": [
        {
          "output_type": "execute_result",
          "data": {
            "text/plain": [
              "['c', 'b', 'a', 'a']"
            ]
          },
          "metadata": {},
          "execution_count": 36
        }
      ]
    },
    {
      "cell_type": "markdown",
      "source": [
        "# index() -> Returns the index of the first element with the specified value"
      ],
      "metadata": {
        "id": "-NvSkP7FnwA1"
      }
    },
    {
      "cell_type": "code",
      "source": [
        "list.index('a')"
      ],
      "metadata": {
        "colab": {
          "base_uri": "https://localhost:8080/"
        },
        "id": "crDDsfTTn01s",
        "outputId": "156c46ed-5ab6-44ff-8980-6ff614722a4c"
      },
      "execution_count": 37,
      "outputs": [
        {
          "output_type": "execute_result",
          "data": {
            "text/plain": [
              "2"
            ]
          },
          "metadata": {},
          "execution_count": 37
        }
      ]
    },
    {
      "cell_type": "markdown",
      "source": [
        "# remove() -> Removes the item with the specified value"
      ],
      "metadata": {
        "id": "fPuy92obn49A"
      }
    },
    {
      "cell_type": "code",
      "source": [
        "list.remove('b')\n",
        "list"
      ],
      "metadata": {
        "colab": {
          "base_uri": "https://localhost:8080/"
        },
        "id": "Ors46G2in9tl",
        "outputId": "d4442669-09ac-421b-9587-85c751879003"
      },
      "execution_count": 38,
      "outputs": [
        {
          "output_type": "execute_result",
          "data": {
            "text/plain": [
              "['c', 'a', 'a']"
            ]
          },
          "metadata": {},
          "execution_count": 38
        }
      ]
    },
    {
      "cell_type": "markdown",
      "source": [
        "# insert() -> Adds an element at the specified position"
      ],
      "metadata": {
        "id": "OL8WSl4roMNV"
      }
    },
    {
      "cell_type": "code",
      "source": [
        "list.insert(1, 'b')\n",
        "list"
      ],
      "metadata": {
        "colab": {
          "base_uri": "https://localhost:8080/"
        },
        "id": "kDtehR2soRpV",
        "outputId": "d091da3e-9003-45f4-c959-4735ee56c8a4"
      },
      "execution_count": 39,
      "outputs": [
        {
          "output_type": "execute_result",
          "data": {
            "text/plain": [
              "['c', 'b', 'a', 'a']"
            ]
          },
          "metadata": {},
          "execution_count": 39
        }
      ]
    },
    {
      "cell_type": "markdown",
      "source": [
        "# pop() -> Removes the element at the specified position"
      ],
      "metadata": {
        "id": "sq3eHSEhoix4"
      }
    },
    {
      "cell_type": "code",
      "source": [
        "list.pop(1)\n",
        "list"
      ],
      "metadata": {
        "colab": {
          "base_uri": "https://localhost:8080/"
        },
        "id": "rYd7lo3dom-z",
        "outputId": "0c823db6-c23d-4e63-cbb1-4f6d08813e0a"
      },
      "execution_count": 40,
      "outputs": [
        {
          "output_type": "execute_result",
          "data": {
            "text/plain": [
              "['c', 'a', 'a']"
            ]
          },
          "metadata": {},
          "execution_count": 40
        }
      ]
    },
    {
      "cell_type": "markdown",
      "source": [
        "# exdend() -> Add the elements of a list (or any iterable), to the end of the current list"
      ],
      "metadata": {
        "id": "ek73lOmho34a"
      }
    },
    {
      "cell_type": "code",
      "source": [
        "fruits = ['apple', 'banana', 'cherry']\n",
        "\n",
        "cars = ['Ford', 'BMW', 'Volvo']\n",
        "\n",
        "fruits.extend(cars)\n",
        "\n",
        "fruits"
      ],
      "metadata": {
        "colab": {
          "base_uri": "https://localhost:8080/"
        },
        "id": "6-oC4PejpLEt",
        "outputId": "aef04e95-a0fd-4e13-968e-b37f17bd2b3e"
      },
      "execution_count": 41,
      "outputs": [
        {
          "output_type": "execute_result",
          "data": {
            "text/plain": [
              "['apple', 'banana', 'cherry', 'Ford', 'BMW', 'Volvo']"
            ]
          },
          "metadata": {},
          "execution_count": 41
        }
      ]
    },
    {
      "cell_type": "markdown",
      "source": [
        "# clear() -> Removes all the elements from the list"
      ],
      "metadata": {
        "id": "Ht8knAAGpTcJ"
      }
    },
    {
      "cell_type": "code",
      "source": [
        "fruits = ['apple', 'banana', 'cherry', 'orange']\n",
        "fruits\n"
      ],
      "metadata": {
        "colab": {
          "base_uri": "https://localhost:8080/"
        },
        "id": "IUvrT64spRE8",
        "outputId": "c832f9e3-0984-4039-e9fe-cee0d24e8fe9"
      },
      "execution_count": 42,
      "outputs": [
        {
          "output_type": "execute_result",
          "data": {
            "text/plain": [
              "['apple', 'banana', 'cherry', 'orange']"
            ]
          },
          "metadata": {},
          "execution_count": 42
        }
      ]
    },
    {
      "cell_type": "code",
      "source": [
        "fruits.clear()\n",
        "fruits"
      ],
      "metadata": {
        "colab": {
          "base_uri": "https://localhost:8080/"
        },
        "id": "qYcLZ3cNpdR2",
        "outputId": "ef43109c-d01f-44b5-d4e1-6a558573eea0"
      },
      "execution_count": 43,
      "outputs": [
        {
          "output_type": "execute_result",
          "data": {
            "text/plain": [
              "[]"
            ]
          },
          "metadata": {},
          "execution_count": 43
        }
      ]
    }
  ]
}
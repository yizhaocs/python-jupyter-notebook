{
  "nbformat": 4,
  "nbformat_minor": 0,
  "metadata": {
    "colab": {
      "name": "dict = {} 的基本操作.ipynb",
      "provenance": []
    },
    "kernelspec": {
      "name": "python3",
      "display_name": "Python 3"
    },
    "language_info": {
      "name": "python"
    }
  },
  "cells": [
    {
      "cell_type": "markdown",
      "source": [
        "# For Loop 一行遍历 -> 将values转换为list，并且increment by 1"
      ],
      "metadata": {
        "id": "nOpT03bbVZLv"
      }
    },
    {
      "cell_type": "code",
      "source": [
        "dict = {'a':1, 'b':2, 'c':3, 'd':4}\n",
        "\n",
        "[v + 1 for k, v in dict.items()]"
      ],
      "metadata": {
        "colab": {
          "base_uri": "https://localhost:8080/"
        },
        "id": "5A99_lbJUd7n",
        "outputId": "25162250-8185-45dc-feda-633e3bd53d59"
      },
      "execution_count": 20,
      "outputs": [
        {
          "output_type": "execute_result",
          "data": {
            "text/plain": [
              "[2, 3, 4, 5]"
            ]
          },
          "metadata": {},
          "execution_count": 20
        }
      ]
    },
    {
      "cell_type": "markdown",
      "source": [
        "# # For Loop 一行遍历 -> 将keys转换为list"
      ],
      "metadata": {
        "id": "gGSA2LX9VggB"
      }
    },
    {
      "cell_type": "code",
      "source": [
        "dict = {'a':1, 'b':2, 'c':3, 'd':4}\n",
        "[k for k, v in dict.items()]"
      ],
      "metadata": {
        "colab": {
          "base_uri": "https://localhost:8080/"
        },
        "id": "wdfflB7yVVbN",
        "outputId": "54818bb5-1909-4a0c-bc60-4b77876d2ebb"
      },
      "execution_count": 21,
      "outputs": [
        {
          "output_type": "execute_result",
          "data": {
            "text/plain": [
              "['a', 'b', 'c', 'd']"
            ]
          },
          "metadata": {},
          "execution_count": 21
        }
      ]
    },
    {
      "cell_type": "markdown",
      "source": [
        "# # For Loop 一行遍历 -> 将k-v pair转换为list"
      ],
      "metadata": {
        "id": "wnLhG89bVu9E"
      }
    },
    {
      "cell_type": "code",
      "source": [
        "dict = {'a':1, 'b':2, 'c':3, 'd':4}\n",
        "[{k: v} for k, v in dict.items()]"
      ],
      "metadata": {
        "colab": {
          "base_uri": "https://localhost:8080/"
        },
        "id": "B9OWhHsjVpDA",
        "outputId": "b699b594-5121-445c-86e7-ee0aa25125a7"
      },
      "execution_count": 22,
      "outputs": [
        {
          "output_type": "execute_result",
          "data": {
            "text/plain": [
              "[{'a': 1}, {'b': 2}, {'c': 3}, {'d': 4}]"
            ]
          },
          "metadata": {},
          "execution_count": 22
        }
      ]
    },
    {
      "cell_type": "markdown",
      "source": [
        "# For loop多行遍历\n"
      ],
      "metadata": {
        "id": "WG3SOzK6TdIF"
      }
    },
    {
      "cell_type": "code",
      "source": [
        "dict = {'a':1, 'b':2, 'c':3, 'd':4}\n",
        "for key in dict:\n",
        "    print('key:{}, value:{}'.format(key, dict.get(key)))"
      ],
      "metadata": {
        "colab": {
          "base_uri": "https://localhost:8080/"
        },
        "id": "cttmOFyhUTsi",
        "outputId": "246d77cb-b1a6-4fcd-908b-aa08bd6ad85a"
      },
      "execution_count": 23,
      "outputs": [
        {
          "output_type": "stream",
          "name": "stdout",
          "text": [
            "key:a, value:1\n",
            "key:b, value:2\n",
            "key:c, value:3\n",
            "key:d, value:4\n"
          ]
        }
      ]
    },
    {
      "cell_type": "code",
      "source": [
        "dict = {'a':1, 'b':2, 'c':3, 'd':4}\n",
        "for index, key in enumerate(dict):\n",
        "    print('index:{}, value:{}'.format(index, key))"
      ],
      "metadata": {
        "colab": {
          "base_uri": "https://localhost:8080/"
        },
        "id": "4A0dYGNTUV6_",
        "outputId": "93e41709-fdac-433c-bf66-ca6bd75477f4"
      },
      "execution_count": 24,
      "outputs": [
        {
          "output_type": "stream",
          "name": "stdout",
          "text": [
            "index:0, value:a\n",
            "index:1, value:b\n",
            "index:2, value:c\n",
            "index:3, value:d\n"
          ]
        }
      ]
    },
    {
      "cell_type": "code",
      "source": [
        "dict = {'a':1, 'b':2, 'c':3, 'd':4}\n",
        "for k, v in dict.items():\n",
        "    # prints the items\n",
        "    print('k:', k, 'v:', v)"
      ],
      "metadata": {
        "colab": {
          "base_uri": "https://localhost:8080/"
        },
        "id": "ImmSCh0kUa9C",
        "outputId": "6c2eb43f-f919-4b82-9f13-5f8f736bf1e5"
      },
      "execution_count": 25,
      "outputs": [
        {
          "output_type": "stream",
          "name": "stdout",
          "text": [
            "k: a v: 1\n",
            "k: b v: 2\n",
            "k: c v: 3\n",
            "k: d v: 4\n"
          ]
        }
      ]
    },
    {
      "cell_type": "code",
      "source": [
        ""
      ],
      "metadata": {
        "id": "7JfBSK4dsGTX"
      },
      "execution_count": 25,
      "outputs": []
    },
    {
      "cell_type": "markdown",
      "source": [
        ""
      ],
      "metadata": {
        "id": "Zrh3PN8bThUA"
      }
    },
    {
      "cell_type": "markdown",
      "source": [
        "# 删除操作"
      ],
      "metadata": {
        "id": "0Em1rpvGRhlD"
      }
    },
    {
      "cell_type": "code",
      "execution_count": 26,
      "metadata": {
        "colab": {
          "base_uri": "https://localhost:8080/"
        },
        "id": "vHSbskGhQEZm",
        "outputId": "f19b9d75-3317-40ee-a374-5a4155421d52"
      },
      "outputs": [
        {
          "output_type": "execute_result",
          "data": {
            "text/plain": [
              "{'empty_example': None}"
            ]
          },
          "metadata": {},
          "execution_count": 26
        }
      ],
      "source": [
        "dict = {\n",
        "    'empty_example': None\n",
        "}\n",
        "\n",
        "dict"
      ]
    },
    {
      "cell_type": "code",
      "source": [
        "del dict['empty_example']\n",
        "dict"
      ],
      "metadata": {
        "colab": {
          "base_uri": "https://localhost:8080/"
        },
        "id": "tbjHNTwZRhKs",
        "outputId": "fa70ddda-9acd-4ee9-96d4-6f6ada2cbcc1"
      },
      "execution_count": 27,
      "outputs": [
        {
          "output_type": "execute_result",
          "data": {
            "text/plain": [
              "{}"
            ]
          },
          "metadata": {},
          "execution_count": 27
        }
      ]
    },
    {
      "cell_type": "markdown",
      "source": [
        "# 插入操作 - 一行一行插入\n"
      ],
      "metadata": {
        "id": "5-I8hz3SRCQF"
      }
    },
    {
      "cell_type": "code",
      "source": [
        "dict.update({'a': 1}) \n",
        "dict.update({'b': 2})\n",
        "dict"
      ],
      "metadata": {
        "colab": {
          "base_uri": "https://localhost:8080/"
        },
        "id": "ERLufOB8RBLk",
        "outputId": "60e5ca0e-2a31-4a9f-97df-b23e8afbbf3e"
      },
      "execution_count": 28,
      "outputs": [
        {
          "output_type": "execute_result",
          "data": {
            "text/plain": [
              "{'a': 1, 'b': 2}"
            ]
          },
          "metadata": {},
          "execution_count": 28
        }
      ]
    },
    {
      "cell_type": "markdown",
      "source": [
        "# 插入操作 - 多行插入\n"
      ],
      "metadata": {
        "id": "J3k0f9OxRxh5"
      }
    },
    {
      "cell_type": "code",
      "source": [
        "dict.update({'c': 3,\n",
        "             'd': 4,\n",
        "             'e': 5}) \n",
        "dict"
      ],
      "metadata": {
        "colab": {
          "base_uri": "https://localhost:8080/"
        },
        "id": "nAqdI7GzRlj6",
        "outputId": "f790c4c6-8f1c-4c5c-8556-6410e4cedc86"
      },
      "execution_count": 29,
      "outputs": [
        {
          "output_type": "execute_result",
          "data": {
            "text/plain": [
              "{'a': 1, 'b': 2, 'c': 3, 'd': 4, 'e': 5}"
            ]
          },
          "metadata": {},
          "execution_count": 29
        }
      ]
    },
    {
      "cell_type": "markdown",
      "source": [
        "# 更新操作 - 一行一行更新"
      ],
      "metadata": {
        "id": "6etXHeGbSqBH"
      }
    },
    {
      "cell_type": "code",
      "source": [
        "dict.update({'a': 2}) \n",
        "dict"
      ],
      "metadata": {
        "colab": {
          "base_uri": "https://localhost:8080/"
        },
        "id": "z0PbnDZqSNQR",
        "outputId": "681bed9d-207b-437e-b2cb-e12cb7ce62e2"
      },
      "execution_count": 30,
      "outputs": [
        {
          "output_type": "execute_result",
          "data": {
            "text/plain": [
              "{'a': 2, 'b': 2, 'c': 3, 'd': 4, 'e': 5}"
            ]
          },
          "metadata": {},
          "execution_count": 30
        }
      ]
    },
    {
      "cell_type": "markdown",
      "source": [
        "# 更新操作 - 多行操作"
      ],
      "metadata": {
        "id": "f_4Kr4bDSxHM"
      }
    },
    {
      "cell_type": "code",
      "source": [
        "dict.update({'c': 4,\n",
        "             'd': 5,\n",
        "             'e': 6}) \n",
        "dict"
      ],
      "metadata": {
        "colab": {
          "base_uri": "https://localhost:8080/"
        },
        "id": "STRzR7-kSzpS",
        "outputId": "7bf01642-4efd-4bb9-873a-da1a80828c6a"
      },
      "execution_count": 31,
      "outputs": [
        {
          "output_type": "execute_result",
          "data": {
            "text/plain": [
              "{'a': 2, 'b': 2, 'c': 4, 'd': 5, 'e': 6}"
            ]
          },
          "metadata": {},
          "execution_count": 31
        }
      ]
    },
    {
      "cell_type": "markdown",
      "source": [
        "# 获取操作"
      ],
      "metadata": {
        "id": "v55NwmCdS7_I"
      }
    },
    {
      "cell_type": "code",
      "source": [
        "dict.get('a')"
      ],
      "metadata": {
        "colab": {
          "base_uri": "https://localhost:8080/"
        },
        "id": "j1mE0efmS_EQ",
        "outputId": "660cc06f-588e-4502-db64-23ed3f130c11"
      },
      "execution_count": 32,
      "outputs": [
        {
          "output_type": "execute_result",
          "data": {
            "text/plain": [
              "2"
            ]
          },
          "metadata": {},
          "execution_count": 32
        }
      ]
    },
    {
      "cell_type": "markdown",
      "source": [
        "# contains操作 - values"
      ],
      "metadata": {
        "id": "GmxpOBFOTJZb"
      }
    },
    {
      "cell_type": "code",
      "source": [
        "if 6 in dict.values():\n",
        "    print(True)\n",
        "else:\n",
        "    print(False)\n"
      ],
      "metadata": {
        "colab": {
          "base_uri": "https://localhost:8080/"
        },
        "id": "cRQZb8uqTE-v",
        "outputId": "47f6da91-bf3c-40db-9f50-03762d9ccb50"
      },
      "execution_count": 33,
      "outputs": [
        {
          "output_type": "stream",
          "name": "stdout",
          "text": [
            "True\n"
          ]
        }
      ]
    },
    {
      "cell_type": "markdown",
      "source": [
        "# contains操作 - keys"
      ],
      "metadata": {
        "id": "O_6VGE1NTXE6"
      }
    },
    {
      "cell_type": "code",
      "source": [
        "if 'a' in dict.keys():\n",
        "    print(True)\n",
        "else:\n",
        "    print(False)"
      ],
      "metadata": {
        "colab": {
          "base_uri": "https://localhost:8080/"
        },
        "id": "WwStVBV3TZM1",
        "outputId": "412e23bb-e07c-4163-fec9-55f6d0532c62"
      },
      "execution_count": 34,
      "outputs": [
        {
          "output_type": "stream",
          "name": "stdout",
          "text": [
            "True\n"
          ]
        }
      ]
    },
    {
      "cell_type": "code",
      "source": [
        "dict = {\n",
        "    'a': 1\n",
        "}\n",
        "\n",
        "if 'a' in dict:\n",
        "    print(True)\n",
        "else:\n",
        "    print(False)\n",
        "\n",
        "if 1 in dict:\n",
        "    print(True)\n",
        "else:\n",
        "    print(False)    "
      ],
      "metadata": {
        "colab": {
          "base_uri": "https://localhost:8080/"
        },
        "id": "rQ4GEd7uLPDS",
        "outputId": "b19af9a4-2415-43e5-fe73-25df83710852"
      },
      "execution_count": 35,
      "outputs": [
        {
          "output_type": "stream",
          "name": "stdout",
          "text": [
            "True\n",
            "False\n"
          ]
        }
      ]
    }
  ]
}
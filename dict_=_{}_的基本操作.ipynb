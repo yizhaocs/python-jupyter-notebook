{
  "nbformat": 4,
  "nbformat_minor": 0,
  "metadata": {
    "colab": {
      "name": "dict = {} 的基本操作.ipynb",
      "provenance": []
    },
    "kernelspec": {
      "name": "python3",
      "display_name": "Python 3"
    },
    "language_info": {
      "name": "python"
    }
  },
  "cells": [
    {
      "cell_type": "code",
      "execution_count": 12,
      "metadata": {
        "colab": {
          "base_uri": "https://localhost:8080/"
        },
        "id": "vHSbskGhQEZm",
        "outputId": "9da7358e-2b38-4623-f02a-090dd45a7941"
      },
      "outputs": [
        {
          "output_type": "execute_result",
          "data": {
            "text/plain": [
              "{'empty_example': None}"
            ]
          },
          "metadata": {},
          "execution_count": 12
        }
      ],
      "source": [
        "dict = {\n",
        "    'empty_example': None\n",
        "}\n",
        "\n",
        "dict"
      ]
    },
    {
      "cell_type": "markdown",
      "source": [
        "# 删除操作"
      ],
      "metadata": {
        "id": "0Em1rpvGRhlD"
      }
    },
    {
      "cell_type": "code",
      "source": [
        "del dict['empty_example']\n",
        "dict"
      ],
      "metadata": {
        "colab": {
          "base_uri": "https://localhost:8080/"
        },
        "id": "tbjHNTwZRhKs",
        "outputId": "f437281d-83b9-4da9-faba-c3c883146634"
      },
      "execution_count": 13,
      "outputs": [
        {
          "output_type": "execute_result",
          "data": {
            "text/plain": [
              "{}"
            ]
          },
          "metadata": {},
          "execution_count": 13
        }
      ]
    },
    {
      "cell_type": "markdown",
      "source": [
        "# 插入操作 - 一行一行插入\n"
      ],
      "metadata": {
        "id": "5-I8hz3SRCQF"
      }
    },
    {
      "cell_type": "code",
      "source": [
        "dict.update({'a': 1}) \n",
        "dict.update({'b': 2})\n",
        "dict"
      ],
      "metadata": {
        "colab": {
          "base_uri": "https://localhost:8080/"
        },
        "id": "ERLufOB8RBLk",
        "outputId": "f0b45f7e-125a-417b-ab96-4a35cc03bac3"
      },
      "execution_count": 14,
      "outputs": [
        {
          "output_type": "execute_result",
          "data": {
            "text/plain": [
              "{'a': 1, 'b': 2}"
            ]
          },
          "metadata": {},
          "execution_count": 14
        }
      ]
    },
    {
      "cell_type": "markdown",
      "source": [
        "# 插入操作 - 多行插入\n"
      ],
      "metadata": {
        "id": "J3k0f9OxRxh5"
      }
    },
    {
      "cell_type": "code",
      "source": [
        "dict.update({'c': 3,\n",
        "             'd': 4,\n",
        "             'e': 5}) \n",
        "dict"
      ],
      "metadata": {
        "colab": {
          "base_uri": "https://localhost:8080/"
        },
        "id": "nAqdI7GzRlj6",
        "outputId": "129fdf3b-57e7-4546-a4b1-a43b83996a72"
      },
      "execution_count": 15,
      "outputs": [
        {
          "output_type": "execute_result",
          "data": {
            "text/plain": [
              "{'a': 1, 'b': 2, 'c': 3, 'd': 4, 'e': 5}"
            ]
          },
          "metadata": {},
          "execution_count": 15
        }
      ]
    },
    {
      "cell_type": "markdown",
      "source": [
        "# 更新操作 - 一行一行更新"
      ],
      "metadata": {
        "id": "6etXHeGbSqBH"
      }
    },
    {
      "cell_type": "code",
      "source": [
        "dict.update({'a': 2}) \n",
        "dict"
      ],
      "metadata": {
        "colab": {
          "base_uri": "https://localhost:8080/"
        },
        "id": "z0PbnDZqSNQR",
        "outputId": "a7a5697e-9d66-41af-c8b2-41991142d167"
      },
      "execution_count": 19,
      "outputs": [
        {
          "output_type": "execute_result",
          "data": {
            "text/plain": [
              "{'a': 2, 'b': 2, 'c': 3, 'd': 4, 'e': 5}"
            ]
          },
          "metadata": {},
          "execution_count": 19
        }
      ]
    },
    {
      "cell_type": "markdown",
      "source": [
        "# 更新操作 - 多行操作"
      ],
      "metadata": {
        "id": "f_4Kr4bDSxHM"
      }
    },
    {
      "cell_type": "code",
      "source": [
        "dict.update({'c': 4,\n",
        "             'd': 5,\n",
        "             'e': 6}) \n",
        "dict"
      ],
      "metadata": {
        "colab": {
          "base_uri": "https://localhost:8080/"
        },
        "id": "STRzR7-kSzpS",
        "outputId": "11672340-048c-4107-abfb-c1721d95d011"
      },
      "execution_count": 20,
      "outputs": [
        {
          "output_type": "execute_result",
          "data": {
            "text/plain": [
              "{'a': 2, 'b': 2, 'c': 4, 'd': 5, 'e': 6}"
            ]
          },
          "metadata": {},
          "execution_count": 20
        }
      ]
    },
    {
      "cell_type": "markdown",
      "source": [
        "# 获取操作"
      ],
      "metadata": {
        "id": "v55NwmCdS7_I"
      }
    },
    {
      "cell_type": "code",
      "source": [
        "dict.get('a')"
      ],
      "metadata": {
        "colab": {
          "base_uri": "https://localhost:8080/"
        },
        "id": "j1mE0efmS_EQ",
        "outputId": "fab79b2c-6dc9-490d-e9da-182cf31b184b"
      },
      "execution_count": 21,
      "outputs": [
        {
          "output_type": "execute_result",
          "data": {
            "text/plain": [
              "2"
            ]
          },
          "metadata": {},
          "execution_count": 21
        }
      ]
    },
    {
      "cell_type": "markdown",
      "source": [
        "# contains操作 - values"
      ],
      "metadata": {
        "id": "GmxpOBFOTJZb"
      }
    },
    {
      "cell_type": "code",
      "source": [
        "if 6 in dict.values():\n",
        "    print(True)\n",
        "else:\n",
        "    print(False)\n"
      ],
      "metadata": {
        "colab": {
          "base_uri": "https://localhost:8080/"
        },
        "id": "cRQZb8uqTE-v",
        "outputId": "de976b90-7a07-469c-ae28-cdf899aa2ba6"
      },
      "execution_count": 25,
      "outputs": [
        {
          "output_type": "stream",
          "name": "stdout",
          "text": [
            "True\n"
          ]
        }
      ]
    },
    {
      "cell_type": "markdown",
      "source": [
        "# contains操作 - keys"
      ],
      "metadata": {
        "id": "O_6VGE1NTXE6"
      }
    },
    {
      "cell_type": "code",
      "source": [
        "if 'a' in dict.keys():\n",
        "    print(True)\n",
        "else:\n",
        "    print(False)"
      ],
      "metadata": {
        "colab": {
          "base_uri": "https://localhost:8080/"
        },
        "id": "WwStVBV3TZM1",
        "outputId": "fbbaa2d4-0b47-4e44-fc33-1a950bf0bcf7"
      },
      "execution_count": 26,
      "outputs": [
        {
          "output_type": "stream",
          "name": "stdout",
          "text": [
            "True\n"
          ]
        }
      ]
    },
    {
      "cell_type": "markdown",
      "source": [
        "# 遍历操作"
      ],
      "metadata": {
        "id": "WG3SOzK6TdIF"
      }
    },
    {
      "cell_type": "code",
      "source": [
        "for key in dict:\n",
        "    print('key:{}, value:{}'.format(key, dict.get(key)))"
      ],
      "metadata": {
        "colab": {
          "base_uri": "https://localhost:8080/"
        },
        "id": "cttmOFyhUTsi",
        "outputId": "f292a43d-a258-428f-e8ce-73a812c53ab0"
      },
      "execution_count": 27,
      "outputs": [
        {
          "output_type": "stream",
          "name": "stdout",
          "text": [
            "key:a, value:2\n",
            "key:b, value:2\n",
            "key:c, value:4\n",
            "key:d, value:5\n",
            "key:e, value:6\n"
          ]
        }
      ]
    },
    {
      "cell_type": "code",
      "source": [
        "for index, key in enumerate(dict):\n",
        "    print('index:{}, value:{}'.format(index, key))"
      ],
      "metadata": {
        "colab": {
          "base_uri": "https://localhost:8080/"
        },
        "id": "4A0dYGNTUV6_",
        "outputId": "0ff2826a-54ee-4d49-f001-814446652000"
      },
      "execution_count": 28,
      "outputs": [
        {
          "output_type": "stream",
          "name": "stdout",
          "text": [
            "index:0, value:a\n",
            "index:1, value:b\n",
            "index:2, value:c\n",
            "index:3, value:d\n",
            "index:4, value:e\n"
          ]
        }
      ]
    },
    {
      "cell_type": "code",
      "source": [
        "for k, v in dict.items():\n",
        "    # prints the items\n",
        "    print('k:', k, 'v:', v)"
      ],
      "metadata": {
        "colab": {
          "base_uri": "https://localhost:8080/"
        },
        "id": "ImmSCh0kUa9C",
        "outputId": "14e7e963-4ec4-46ac-e51b-50b6fd095336"
      },
      "execution_count": 29,
      "outputs": [
        {
          "output_type": "stream",
          "name": "stdout",
          "text": [
            "k: a v: 2\n",
            "k: b v: 2\n",
            "k: c v: 4\n",
            "k: d v: 5\n",
            "k: e v: 6\n"
          ]
        }
      ]
    },
    {
      "cell_type": "markdown",
      "source": [
        "# 将values转换为list，并且increment by 1"
      ],
      "metadata": {
        "id": "nOpT03bbVZLv"
      }
    },
    {
      "cell_type": "code",
      "source": [
        "[v + 1 for k, v in dict.items()]"
      ],
      "metadata": {
        "colab": {
          "base_uri": "https://localhost:8080/"
        },
        "id": "5A99_lbJUd7n",
        "outputId": "6d86b388-e180-4f46-971e-7e9077978504"
      },
      "execution_count": 34,
      "outputs": [
        {
          "output_type": "execute_result",
          "data": {
            "text/plain": [
              "[3, 3, 5, 6, 7]"
            ]
          },
          "metadata": {},
          "execution_count": 34
        }
      ]
    },
    {
      "cell_type": "markdown",
      "source": [
        "# 将keys转换为list"
      ],
      "metadata": {
        "id": "gGSA2LX9VggB"
      }
    },
    {
      "cell_type": "code",
      "source": [
        "[k for k, v in dict.items()]"
      ],
      "metadata": {
        "colab": {
          "base_uri": "https://localhost:8080/"
        },
        "id": "wdfflB7yVVbN",
        "outputId": "a82bab95-87e6-4c23-934a-69a0748f1351"
      },
      "execution_count": 35,
      "outputs": [
        {
          "output_type": "execute_result",
          "data": {
            "text/plain": [
              "['a', 'b', 'c', 'd', 'e']"
            ]
          },
          "metadata": {},
          "execution_count": 35
        }
      ]
    },
    {
      "cell_type": "markdown",
      "source": [
        "# 将k-v pair转换为list"
      ],
      "metadata": {
        "id": "wnLhG89bVu9E"
      }
    },
    {
      "cell_type": "code",
      "source": [
        "[{k: v} for k, v in dict.items()]"
      ],
      "metadata": {
        "colab": {
          "base_uri": "https://localhost:8080/"
        },
        "id": "B9OWhHsjVpDA",
        "outputId": "2f17196c-2ecf-4d2f-9635-3de93da8e91f"
      },
      "execution_count": 36,
      "outputs": [
        {
          "output_type": "execute_result",
          "data": {
            "text/plain": [
              "[{'a': 2}, {'b': 2}, {'c': 4}, {'d': 5}, {'e': 6}]"
            ]
          },
          "metadata": {},
          "execution_count": 36
        }
      ]
    },
    {
      "cell_type": "markdown",
      "source": [
        ""
      ],
      "metadata": {
        "id": "Zrh3PN8bThUA"
      }
    }
  ]
}
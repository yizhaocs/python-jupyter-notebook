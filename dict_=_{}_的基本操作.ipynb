{
 "nbformat": 4,
 "nbformat_minor": 0,
 "metadata": {
  "colab": {
   "name": "dict = {} 的基本操作.ipynb",
   "provenance": []
  },
  "kernelspec": {
   "name": "python3",
   "display_name": "Python 3"
  },
  "language_info": {
   "name": "python"
  }
 },
 "cells": [
  {
   "cell_type": "markdown",
   "source": [
    "# For Loop 一行遍历 -> 将values转换为list，并且increment by 1"
   ],
   "metadata": {
    "id": "nOpT03bbVZLv"
   }
  },
  {
   "cell_type": "code",
   "source": [
    "dict = {'a':1, 'b':2, 'c':3, 'd':4}\n",
    "\n",
    "[v + 1 for k, v in dict.items()]"
   ],
   "metadata": {
    "colab": {
     "base_uri": "https://localhost:8080/"
    },
    "id": "5A99_lbJUd7n",
    "outputId": "508222b9-bb95-4196-fc35-e2ed6704356e"
   },
   "execution_count": 72,
   "outputs": [
    {
     "output_type": "execute_result",
     "data": {
      "text/plain": [
       "[2, 3, 4, 5]"
      ]
     },
     "metadata": {},
     "execution_count": 72
    }
   ]
  },
  {
   "cell_type": "markdown",
   "source": [
    "# # For Loop 一行遍历 -> 将keys转换为list"
   ],
   "metadata": {
    "id": "gGSA2LX9VggB"
   }
  },
  {
   "cell_type": "code",
   "source": [
    "dict = {'a':1, 'b':2, 'c':3, 'd':4}\n",
    "[k for k, v in dict.items()]"
   ],
   "metadata": {
    "colab": {
     "base_uri": "https://localhost:8080/"
    },
    "id": "wdfflB7yVVbN",
    "outputId": "b7362273-bb9b-4dc1-cd7d-1ab5e90702c7"
   },
   "execution_count": 73,
   "outputs": [
    {
     "output_type": "execute_result",
     "data": {
      "text/plain": [
       "['a', 'b', 'c', 'd']"
      ]
     },
     "metadata": {},
     "execution_count": 73
    }
   ]
  },
  {
   "cell_type": "markdown",
   "source": [
    "# # For Loop 一行遍历 -> 将k-v pair转换为list"
   ],
   "metadata": {
    "id": "wnLhG89bVu9E"
   }
  },
  {
   "cell_type": "code",
   "source": [
    "dict = {'a':1, 'b':2, 'c':3, 'd':4}\n",
    "[{k: v} for k, v in dict.items()]"
   ],
   "metadata": {
    "colab": {
     "base_uri": "https://localhost:8080/"
    },
    "id": "B9OWhHsjVpDA",
    "outputId": "e200abe6-f396-443b-da4e-924f2f719538"
   },
   "execution_count": 74,
   "outputs": [
    {
     "output_type": "execute_result",
     "data": {
      "text/plain": [
       "[{'a': 1}, {'b': 2}, {'c': 3}, {'d': 4}]"
      ]
     },
     "metadata": {},
     "execution_count": 74
    }
   ]
  },
  {
   "cell_type": "markdown",
   "source": [
    "# For loop多行遍历\n"
   ],
   "metadata": {
    "id": "WG3SOzK6TdIF"
   }
  },
  {
   "cell_type": "code",
   "source": [
    "dict = {'a':1, 'b':2, 'c':3, 'd':4}\n",
    "for key in dict:\n",
    "    print('key:{}, value:{}'.format(key, dict.get(key)))"
   ],
   "metadata": {
    "colab": {
     "base_uri": "https://localhost:8080/"
    },
    "id": "cttmOFyhUTsi",
    "outputId": "309492e6-5bd8-4c5d-f23f-ec6c0e14823a"
   },
   "execution_count": 84,
   "outputs": [
    {
     "output_type": "stream",
     "name": "stdout",
     "text": [
      "key:a, value:1\n",
      "key:b, value:2\n",
      "key:c, value:3\n",
      "key:d, value:4\n"
     ]
    }
   ]
  },
  {
   "cell_type": "code",
   "source": [
    "dict = {'a':1, 'b':2, 'c':3, 'd':4}\n",
    "for index, key in enumerate(dict):\n",
    "    print('index:{}, value:{}'.format(index, key))"
   ],
   "metadata": {
    "colab": {
     "base_uri": "https://localhost:8080/"
    },
    "id": "4A0dYGNTUV6_",
    "outputId": "7bbd5ccc-7076-429f-9d96-058b5ebeb029"
   },
   "execution_count": 85,
   "outputs": [
    {
     "output_type": "stream",
     "name": "stdout",
     "text": [
      "index:0, value:a\n",
      "index:1, value:b\n",
      "index:2, value:c\n",
      "index:3, value:d\n"
     ]
    }
   ]
  },
  {
   "cell_type": "code",
   "source": [
    "dict = {'a':1, 'b':2, 'c':3, 'd':4}\n",
    "for k, v in dict.items():\n",
    "    # prints the items\n",
    "    print('k:', k, 'v:', v)"
   ],
   "metadata": {
    "colab": {
     "base_uri": "https://localhost:8080/"
    },
    "id": "ImmSCh0kUa9C",
    "outputId": "ce25230b-cd64-45bf-dc07-9dabc5515be0"
   },
   "execution_count": 86,
   "outputs": [
    {
     "output_type": "stream",
     "name": "stdout",
     "text": [
      "k: a v: 1\n",
      "k: b v: 2\n",
      "k: c v: 3\n",
      "k: d v: 4\n"
     ]
    }
   ]
  },
  {
   "cell_type": "code",
   "source": [
    ""
   ],
   "metadata": {
    "id": "7JfBSK4dsGTX"
   },
   "execution_count": 86,
   "outputs": []
  },
  {
   "cell_type": "markdown",
   "source": [
    ""
   ],
   "metadata": {
    "id": "Zrh3PN8bThUA"
   }
  },
  {
   "cell_type": "markdown",
   "source": [
    "# 删除操作"
   ],
   "metadata": {
    "id": "0Em1rpvGRhlD"
   }
  },
  {
   "cell_type": "code",
   "execution_count": 75,
   "metadata": {
    "colab": {
     "base_uri": "https://localhost:8080/"
    },
    "id": "vHSbskGhQEZm",
    "outputId": "facce31b-28f2-4e1f-ddee-8a973c81182e"
   },
   "outputs": [
    {
     "output_type": "execute_result",
     "data": {
      "text/plain": [
       "{'empty_example': None}"
      ]
     },
     "metadata": {},
     "execution_count": 75
    }
   ],
   "source": [
    "dict = {\n",
    "    'empty_example': None\n",
    "}\n",
    "\n",
    "dict"
   ]
  },
  {
   "cell_type": "code",
   "source": [
    "del dict['empty_example']\n",
    "dict"
   ],
   "metadata": {
    "colab": {
     "base_uri": "https://localhost:8080/"
    },
    "id": "tbjHNTwZRhKs",
    "outputId": "9f786c6d-7517-4185-b593-1635cd4f58f8"
   },
   "execution_count": 76,
   "outputs": [
    {
     "output_type": "execute_result",
     "data": {
      "text/plain": [
       "{}"
      ]
     },
     "metadata": {},
     "execution_count": 76
    }
   ]
  },
  {
   "cell_type": "markdown",
   "source": [
    "# 插入操作 - 一行一行插入\n"
   ],
   "metadata": {
    "id": "5-I8hz3SRCQF"
   }
  },
  {
   "cell_type": "code",
   "source": [
    "dict.update({'a': 1}) \n",
    "dict.update({'b': 2})\n",
    "dict"
   ],
   "metadata": {
    "colab": {
     "base_uri": "https://localhost:8080/"
    },
    "id": "ERLufOB8RBLk",
    "outputId": "20b58cb8-8599-4229-e451-08e68fc4f947"
   },
   "execution_count": 77,
   "outputs": [
    {
     "output_type": "execute_result",
     "data": {
      "text/plain": [
       "{'a': 1, 'b': 2}"
      ]
     },
     "metadata": {},
     "execution_count": 77
    }
   ]
  },
  {
   "cell_type": "markdown",
   "source": [
    "# 插入操作 - 多行插入\n"
   ],
   "metadata": {
    "id": "J3k0f9OxRxh5"
   }
  },
  {
   "cell_type": "code",
   "source": [
    "dict.update({'c': 3,\n",
    "             'd': 4,\n",
    "             'e': 5}) \n",
    "dict"
   ],
   "metadata": {
    "colab": {
     "base_uri": "https://localhost:8080/"
    },
    "id": "nAqdI7GzRlj6",
    "outputId": "fab0d1d2-7909-473f-9022-11603b4572ba"
   },
   "execution_count": 78,
   "outputs": [
    {
     "output_type": "execute_result",
     "data": {
      "text/plain": [
       "{'a': 1, 'b': 2, 'c': 3, 'd': 4, 'e': 5}"
      ]
     },
     "metadata": {},
     "execution_count": 78
    }
   ]
  },
  {
   "cell_type": "markdown",
   "source": [
    "# 更新操作 - 一行一行更新"
   ],
   "metadata": {
    "id": "6etXHeGbSqBH"
   }
  },
  {
   "cell_type": "code",
   "source": [
    "dict.update({'a': 2}) \n",
    "dict"
   ],
   "metadata": {
    "colab": {
     "base_uri": "https://localhost:8080/"
    },
    "id": "z0PbnDZqSNQR",
    "outputId": "6bd3f3e4-f5bd-4b96-d0f9-a60710286212"
   },
   "execution_count": 79,
   "outputs": [
    {
     "output_type": "execute_result",
     "data": {
      "text/plain": [
       "{'a': 2, 'b': 2, 'c': 3, 'd': 4, 'e': 5}"
      ]
     },
     "metadata": {},
     "execution_count": 79
    }
   ]
  },
  {
   "cell_type": "markdown",
   "source": [
    "# 更新操作 - 多行操作"
   ],
   "metadata": {
    "id": "f_4Kr4bDSxHM"
   }
  },
  {
   "cell_type": "code",
   "source": [
    "dict.update({'c': 4,\n",
    "             'd': 5,\n",
    "             'e': 6}) \n",
    "dict"
   ],
   "metadata": {
    "colab": {
     "base_uri": "https://localhost:8080/"
    },
    "id": "STRzR7-kSzpS",
    "outputId": "f0a64cbb-60a2-4dfb-bbe0-7e55562f6c88"
   },
   "execution_count": 80,
   "outputs": [
    {
     "output_type": "execute_result",
     "data": {
      "text/plain": [
       "{'a': 2, 'b': 2, 'c': 4, 'd': 5, 'e': 6}"
      ]
     },
     "metadata": {},
     "execution_count": 80
    }
   ]
  },
  {
   "cell_type": "markdown",
   "source": [
    "# 获取操作"
   ],
   "metadata": {
    "id": "v55NwmCdS7_I"
   }
  },
  {
   "cell_type": "code",
   "source": [
    "dict.get('a')"
   ],
   "metadata": {
    "colab": {
     "base_uri": "https://localhost:8080/"
    },
    "id": "j1mE0efmS_EQ",
    "outputId": "e9ccac34-e1c0-43fe-c6e7-760eb9acd065"
   },
   "execution_count": 81,
   "outputs": [
    {
     "output_type": "execute_result",
     "data": {
      "text/plain": [
       "2"
      ]
     },
     "metadata": {},
     "execution_count": 81
    }
   ]
  },
  {
   "cell_type": "markdown",
   "source": [
    "# contains操作 - values"
   ],
   "metadata": {
    "id": "GmxpOBFOTJZb"
   }
  },
  {
   "cell_type": "code",
   "source": [
    "if 6 in dict.values():\n",
    "    print(True)\n",
    "else:\n",
    "    print(False)\n"
   ],
   "metadata": {
    "colab": {
     "base_uri": "https://localhost:8080/"
    },
    "id": "cRQZb8uqTE-v",
    "outputId": "e80b7e05-d50a-459d-fb7c-e444b035fbea"
   },
   "execution_count": 82,
   "outputs": [
    {
     "output_type": "stream",
     "name": "stdout",
     "text": [
      "True\n"
     ]
    }
   ]
  },
  {
   "cell_type": "markdown",
   "source": [
    "# contains操作 - keys"
   ],
   "metadata": {
    "id": "O_6VGE1NTXE6"
   }
  },
  {
   "cell_type": "code",
   "source": [
    "if 'a' in dict.keys():\n",
    "    print(True)\n",
    "else:\n",
    "    print(False)"
   ],
   "metadata": {
    "colab": {
     "base_uri": "https://localhost:8080/"
    },
    "id": "WwStVBV3TZM1",
    "outputId": "ca3b594b-6bdc-48a8-d8df-c129c41dd8dd"
   },
   "execution_count": 83,
   "outputs": [
    {
     "output_type": "stream",
     "name": "stdout",
     "text": [
      "True\n"
     ]
    }
   ]
  }
 ]
}